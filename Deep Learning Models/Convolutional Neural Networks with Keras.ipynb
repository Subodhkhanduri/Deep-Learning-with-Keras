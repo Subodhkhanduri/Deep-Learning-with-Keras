{
 "cells": [
  {
   "cell_type": "markdown",
   "id": "2a86cd7f-c191-4c78-92a5-2479b13cba2b",
   "metadata": {},
   "source": [
    "In this notebook, we will learn how to use the Keras library to build convolutional neural networks. We will also use the popular MNIST dataset and we will compare our results to using a conventional neural network."
   ]
  },
  {
   "cell_type": "markdown",
   "id": "a7c948e3-995c-45c0-86f0-8916fbee6b02",
   "metadata": {},
   "source": [
    "## Objectives for this Notebook    \n",
    "* How to use the Keras library to build convolutional neural networks\n",
    "* Convolutional neural network with one set of convolutional and pooling layers\n",
    "* Convolutional neural network with two sets of convolutional and pooling layers\n",
    "\n"
   ]
  },
  {
   "cell_type": "markdown",
   "id": "a2725718-c839-403f-8017-236d760c20c0",
   "metadata": {},
   "source": [
    "### Install the necessary libraries\n"
   ]
  },
  {
   "cell_type": "markdown",
   "id": "5860a2ee-ec49-4add-ad79-556d6960495a",
   "metadata": {},
   "source": [
    "Let's start by installing the keras libraries and the packages that we would need to build a neural network.\n"
   ]
  },
  {
   "cell_type": "code",
   "execution_count": 1,
   "id": "dc5e450c-e81e-42b1-a564-7d59bd960067",
   "metadata": {},
   "outputs": [
    {
     "name": "stdout",
     "output_type": "stream",
     "text": [
      "Requirement already satisfied: numpy==2.0.2 in c:\\users\\dangw\\anaconda3\\envs\\ibm_2\\lib\\site-packages (2.0.2)\n",
      "Note: you may need to restart the kernel to use updated packages.\n",
      "Requirement already satisfied: pandas==2.2.2 in c:\\users\\dangw\\anaconda3\\envs\\ibm_2\\lib\\site-packages (2.2.2)\n",
      "Requirement already satisfied: numpy>=1.22.4 in c:\\users\\dangw\\anaconda3\\envs\\ibm_2\\lib\\site-packages (from pandas==2.2.2) (2.0.2)\n",
      "Requirement already satisfied: python-dateutil>=2.8.2 in c:\\users\\dangw\\anaconda3\\envs\\ibm_2\\lib\\site-packages (from pandas==2.2.2) (2.9.0.post0)\n",
      "Requirement already satisfied: pytz>=2020.1 in c:\\users\\dangw\\anaconda3\\envs\\ibm_2\\lib\\site-packages (from pandas==2.2.2) (2025.2)\n",
      "Requirement already satisfied: tzdata>=2022.7 in c:\\users\\dangw\\anaconda3\\envs\\ibm_2\\lib\\site-packages (from pandas==2.2.2) (2025.2)\n",
      "Requirement already satisfied: six>=1.5 in c:\\users\\dangw\\anaconda3\\envs\\ibm_2\\lib\\site-packages (from python-dateutil>=2.8.2->pandas==2.2.2) (1.17.0)\n",
      "Note: you may need to restart the kernel to use updated packages.\n",
      "Requirement already satisfied: tensorflow==2.18.0 in c:\\users\\dangw\\anaconda3\\envs\\ibm_2\\lib\\site-packages (2.18.0)\n",
      "Requirement already satisfied: tensorflow-intel==2.18.0 in c:\\users\\dangw\\anaconda3\\envs\\ibm_2\\lib\\site-packages (from tensorflow==2.18.0) (2.18.0)\n",
      "Requirement already satisfied: absl-py>=1.0.0 in c:\\users\\dangw\\anaconda3\\envs\\ibm_2\\lib\\site-packages (from tensorflow-intel==2.18.0->tensorflow==2.18.0) (2.3.1)\n",
      "Requirement already satisfied: astunparse>=1.6.0 in c:\\users\\dangw\\anaconda3\\envs\\ibm_2\\lib\\site-packages (from tensorflow-intel==2.18.0->tensorflow==2.18.0) (1.6.3)\n",
      "Requirement already satisfied: flatbuffers>=24.3.25 in c:\\users\\dangw\\anaconda3\\envs\\ibm_2\\lib\\site-packages (from tensorflow-intel==2.18.0->tensorflow==2.18.0) (25.2.10)\n",
      "Requirement already satisfied: gast!=0.5.0,!=0.5.1,!=0.5.2,>=0.2.1 in c:\\users\\dangw\\anaconda3\\envs\\ibm_2\\lib\\site-packages (from tensorflow-intel==2.18.0->tensorflow==2.18.0) (0.6.0)\n",
      "Requirement already satisfied: google-pasta>=0.1.1 in c:\\users\\dangw\\anaconda3\\envs\\ibm_2\\lib\\site-packages (from tensorflow-intel==2.18.0->tensorflow==2.18.0) (0.2.0)\n",
      "Requirement already satisfied: libclang>=13.0.0 in c:\\users\\dangw\\anaconda3\\envs\\ibm_2\\lib\\site-packages (from tensorflow-intel==2.18.0->tensorflow==2.18.0) (18.1.1)\n",
      "Requirement already satisfied: opt-einsum>=2.3.2 in c:\\users\\dangw\\anaconda3\\envs\\ibm_2\\lib\\site-packages (from tensorflow-intel==2.18.0->tensorflow==2.18.0) (3.4.0)\n",
      "Requirement already satisfied: packaging in c:\\users\\dangw\\anaconda3\\envs\\ibm_2\\lib\\site-packages (from tensorflow-intel==2.18.0->tensorflow==2.18.0) (25.0)\n",
      "Requirement already satisfied: protobuf!=4.21.0,!=4.21.1,!=4.21.2,!=4.21.3,!=4.21.4,!=4.21.5,<6.0.0dev,>=3.20.3 in c:\\users\\dangw\\anaconda3\\envs\\ibm_2\\lib\\site-packages (from tensorflow-intel==2.18.0->tensorflow==2.18.0) (5.29.5)\n",
      "Requirement already satisfied: requests<3,>=2.21.0 in c:\\users\\dangw\\anaconda3\\envs\\ibm_2\\lib\\site-packages (from tensorflow-intel==2.18.0->tensorflow==2.18.0) (2.32.4)\n",
      "Requirement already satisfied: setuptools in c:\\users\\dangw\\anaconda3\\envs\\ibm_2\\lib\\site-packages (from tensorflow-intel==2.18.0->tensorflow==2.18.0) (80.9.0)\n",
      "Requirement already satisfied: six>=1.12.0 in c:\\users\\dangw\\anaconda3\\envs\\ibm_2\\lib\\site-packages (from tensorflow-intel==2.18.0->tensorflow==2.18.0) (1.17.0)\n",
      "Requirement already satisfied: termcolor>=1.1.0 in c:\\users\\dangw\\anaconda3\\envs\\ibm_2\\lib\\site-packages (from tensorflow-intel==2.18.0->tensorflow==2.18.0) (3.1.0)\n",
      "Requirement already satisfied: typing-extensions>=3.6.6 in c:\\users\\dangw\\anaconda3\\envs\\ibm_2\\lib\\site-packages (from tensorflow-intel==2.18.0->tensorflow==2.18.0) (4.14.0)\n",
      "Requirement already satisfied: wrapt>=1.11.0 in c:\\users\\dangw\\anaconda3\\envs\\ibm_2\\lib\\site-packages (from tensorflow-intel==2.18.0->tensorflow==2.18.0) (1.17.2)\n",
      "Requirement already satisfied: grpcio<2.0,>=1.24.3 in c:\\users\\dangw\\anaconda3\\envs\\ibm_2\\lib\\site-packages (from tensorflow-intel==2.18.0->tensorflow==2.18.0) (1.73.1)\n",
      "Requirement already satisfied: tensorboard<2.19,>=2.18 in c:\\users\\dangw\\anaconda3\\envs\\ibm_2\\lib\\site-packages (from tensorflow-intel==2.18.0->tensorflow==2.18.0) (2.18.0)\n",
      "Requirement already satisfied: keras>=3.5.0 in c:\\users\\dangw\\anaconda3\\envs\\ibm_2\\lib\\site-packages (from tensorflow-intel==2.18.0->tensorflow==2.18.0) (3.10.0)\n",
      "Requirement already satisfied: numpy<2.1.0,>=1.26.0 in c:\\users\\dangw\\anaconda3\\envs\\ibm_2\\lib\\site-packages (from tensorflow-intel==2.18.0->tensorflow==2.18.0) (2.0.2)\n",
      "Requirement already satisfied: h5py>=3.11.0 in c:\\users\\dangw\\anaconda3\\envs\\ibm_2\\lib\\site-packages (from tensorflow-intel==2.18.0->tensorflow==2.18.0) (3.14.0)\n",
      "Requirement already satisfied: ml-dtypes<0.5.0,>=0.4.0 in c:\\users\\dangw\\anaconda3\\envs\\ibm_2\\lib\\site-packages (from tensorflow-intel==2.18.0->tensorflow==2.18.0) (0.4.1)\n",
      "Requirement already satisfied: tensorflow-io-gcs-filesystem>=0.23.1 in c:\\users\\dangw\\anaconda3\\envs\\ibm_2\\lib\\site-packages (from tensorflow-intel==2.18.0->tensorflow==2.18.0) (0.31.0)\n",
      "Requirement already satisfied: charset_normalizer<4,>=2 in c:\\users\\dangw\\anaconda3\\envs\\ibm_2\\lib\\site-packages (from requests<3,>=2.21.0->tensorflow-intel==2.18.0->tensorflow==2.18.0) (3.4.2)\n",
      "Requirement already satisfied: idna<4,>=2.5 in c:\\users\\dangw\\anaconda3\\envs\\ibm_2\\lib\\site-packages (from requests<3,>=2.21.0->tensorflow-intel==2.18.0->tensorflow==2.18.0) (3.10)\n",
      "Requirement already satisfied: urllib3<3,>=1.21.1 in c:\\users\\dangw\\anaconda3\\envs\\ibm_2\\lib\\site-packages (from requests<3,>=2.21.0->tensorflow-intel==2.18.0->tensorflow==2.18.0) (2.5.0)\n",
      "Requirement already satisfied: certifi>=2017.4.17 in c:\\users\\dangw\\anaconda3\\envs\\ibm_2\\lib\\site-packages (from requests<3,>=2.21.0->tensorflow-intel==2.18.0->tensorflow==2.18.0) (2025.6.15)\n",
      "Requirement already satisfied: markdown>=2.6.8 in c:\\users\\dangw\\anaconda3\\envs\\ibm_2\\lib\\site-packages (from tensorboard<2.19,>=2.18->tensorflow-intel==2.18.0->tensorflow==2.18.0) (3.8.2)\n",
      "Requirement already satisfied: tensorboard-data-server<0.8.0,>=0.7.0 in c:\\users\\dangw\\anaconda3\\envs\\ibm_2\\lib\\site-packages (from tensorboard<2.19,>=2.18->tensorflow-intel==2.18.0->tensorflow==2.18.0) (0.7.2)\n",
      "Requirement already satisfied: werkzeug>=1.0.1 in c:\\users\\dangw\\anaconda3\\envs\\ibm_2\\lib\\site-packages (from tensorboard<2.19,>=2.18->tensorflow-intel==2.18.0->tensorflow==2.18.0) (3.1.3)\n",
      "Requirement already satisfied: wheel<1.0,>=0.23.0 in c:\\users\\dangw\\anaconda3\\envs\\ibm_2\\lib\\site-packages (from astunparse>=1.6.0->tensorflow-intel==2.18.0->tensorflow==2.18.0) (0.45.1)\n",
      "Requirement already satisfied: rich in c:\\users\\dangw\\anaconda3\\envs\\ibm_2\\lib\\site-packages (from keras>=3.5.0->tensorflow-intel==2.18.0->tensorflow==2.18.0) (14.0.0)\n",
      "Requirement already satisfied: namex in c:\\users\\dangw\\anaconda3\\envs\\ibm_2\\lib\\site-packages (from keras>=3.5.0->tensorflow-intel==2.18.0->tensorflow==2.18.0) (0.1.0)\n",
      "Requirement already satisfied: optree in c:\\users\\dangw\\anaconda3\\envs\\ibm_2\\lib\\site-packages (from keras>=3.5.0->tensorflow-intel==2.18.0->tensorflow==2.18.0) (0.16.0)\n",
      "Requirement already satisfied: importlib-metadata>=4.4 in c:\\users\\dangw\\anaconda3\\envs\\ibm_2\\lib\\site-packages (from markdown>=2.6.8->tensorboard<2.19,>=2.18->tensorflow-intel==2.18.0->tensorflow==2.18.0) (8.7.0)\n",
      "Requirement already satisfied: zipp>=3.20 in c:\\users\\dangw\\anaconda3\\envs\\ibm_2\\lib\\site-packages (from importlib-metadata>=4.4->markdown>=2.6.8->tensorboard<2.19,>=2.18->tensorflow-intel==2.18.0->tensorflow==2.18.0) (3.23.0)\n",
      "Requirement already satisfied: MarkupSafe>=2.1.1 in c:\\users\\dangw\\anaconda3\\envs\\ibm_2\\lib\\site-packages (from werkzeug>=1.0.1->tensorboard<2.19,>=2.18->tensorflow-intel==2.18.0->tensorflow==2.18.0) (3.0.2)\n",
      "Requirement already satisfied: markdown-it-py>=2.2.0 in c:\\users\\dangw\\anaconda3\\envs\\ibm_2\\lib\\site-packages (from rich->keras>=3.5.0->tensorflow-intel==2.18.0->tensorflow==2.18.0) (3.0.0)\n",
      "Requirement already satisfied: pygments<3.0.0,>=2.13.0 in c:\\users\\dangw\\anaconda3\\envs\\ibm_2\\lib\\site-packages (from rich->keras>=3.5.0->tensorflow-intel==2.18.0->tensorflow==2.18.0) (2.19.2)\n",
      "Requirement already satisfied: mdurl~=0.1 in c:\\users\\dangw\\anaconda3\\envs\\ibm_2\\lib\\site-packages (from markdown-it-py>=2.2.0->rich->keras>=3.5.0->tensorflow-intel==2.18.0->tensorflow==2.18.0) (0.1.2)\n",
      "Note: you may need to restart the kernel to use updated packages.\n",
      "Requirement already satisfied: matplotlib==3.9.2 in c:\\users\\dangw\\anaconda3\\envs\\ibm_2\\lib\\site-packages (3.9.2)\n",
      "Requirement already satisfied: contourpy>=1.0.1 in c:\\users\\dangw\\anaconda3\\envs\\ibm_2\\lib\\site-packages (from matplotlib==3.9.2) (1.3.0)\n",
      "Requirement already satisfied: cycler>=0.10 in c:\\users\\dangw\\anaconda3\\envs\\ibm_2\\lib\\site-packages (from matplotlib==3.9.2) (0.12.1)\n",
      "Requirement already satisfied: fonttools>=4.22.0 in c:\\users\\dangw\\anaconda3\\envs\\ibm_2\\lib\\site-packages (from matplotlib==3.9.2) (4.58.5)\n",
      "Requirement already satisfied: kiwisolver>=1.3.1 in c:\\users\\dangw\\anaconda3\\envs\\ibm_2\\lib\\site-packages (from matplotlib==3.9.2) (1.4.7)\n",
      "Requirement already satisfied: numpy>=1.23 in c:\\users\\dangw\\anaconda3\\envs\\ibm_2\\lib\\site-packages (from matplotlib==3.9.2) (2.0.2)\n",
      "Requirement already satisfied: packaging>=20.0 in c:\\users\\dangw\\anaconda3\\envs\\ibm_2\\lib\\site-packages (from matplotlib==3.9.2) (25.0)\n",
      "Requirement already satisfied: pillow>=8 in c:\\users\\dangw\\anaconda3\\envs\\ibm_2\\lib\\site-packages (from matplotlib==3.9.2) (11.3.0)\n",
      "Requirement already satisfied: pyparsing>=2.3.1 in c:\\users\\dangw\\anaconda3\\envs\\ibm_2\\lib\\site-packages (from matplotlib==3.9.2) (3.2.3)\n",
      "Requirement already satisfied: python-dateutil>=2.7 in c:\\users\\dangw\\anaconda3\\envs\\ibm_2\\lib\\site-packages (from matplotlib==3.9.2) (2.9.0.post0)\n",
      "Requirement already satisfied: importlib-resources>=3.2.0 in c:\\users\\dangw\\anaconda3\\envs\\ibm_2\\lib\\site-packages (from matplotlib==3.9.2) (6.5.2)\n",
      "Requirement already satisfied: zipp>=3.1.0 in c:\\users\\dangw\\anaconda3\\envs\\ibm_2\\lib\\site-packages (from importlib-resources>=3.2.0->matplotlib==3.9.2) (3.23.0)\n",
      "Requirement already satisfied: six>=1.5 in c:\\users\\dangw\\anaconda3\\envs\\ibm_2\\lib\\site-packages (from python-dateutil>=2.7->matplotlib==3.9.2) (1.17.0)\n",
      "Note: you may need to restart the kernel to use updated packages.\n"
     ]
    }
   ],
   "source": [
    "%pip install numpy==2.0.2\n",
    "%pip install pandas==2.2.2\n",
    "%pip install tensorflow==2.18.0\n",
    "%pip install matplotlib==3.9.2"
   ]
  },
  {
   "cell_type": "markdown",
   "id": "c8cb5959-7529-4024-aabe-711e02b1a573",
   "metadata": {},
   "source": [
    "## Import Keras and Packages\n"
   ]
  },
  {
   "cell_type": "code",
   "execution_count": 2,
   "id": "54f7f5de-dd4f-4160-97a7-41fc13358596",
   "metadata": {},
   "outputs": [],
   "source": [
    "import keras\n",
    "from keras.models import Sequential\n",
    "from keras.layers import Dense\n",
    "from keras.layers import Input\n",
    "from keras.utils import to_categorical"
   ]
  },
  {
   "cell_type": "code",
   "execution_count": 3,
   "id": "59965020-f741-41d0-8b70-00253641ff4c",
   "metadata": {},
   "outputs": [],
   "source": [
    "from keras.layers import Conv2D # to add convolutional layers\n",
    "from keras.layers import MaxPooling2D # to add pooling layers\n",
    "from keras.layers import Flatten # to flatten data for fully connected layers"
   ]
  },
  {
   "cell_type": "markdown",
   "id": "b4be0cd5-9e2a-44f7-a6de-1fdc46923fb4",
   "metadata": {},
   "source": [
    "## Convolutional Neural Network with One Set of Convolutional and Pooling Layers\n"
   ]
  },
  {
   "cell_type": "code",
   "execution_count": 4,
   "id": "21cd5320-20a6-4e90-89be-81af7990a4c5",
   "metadata": {},
   "outputs": [],
   "source": [
    "# import data\n",
    "from keras.datasets import mnist\n",
    "\n",
    "# load data\n",
    "(X_train, y_train), (X_test, y_test) = mnist.load_data()\n",
    "\n",
    "# reshape to be [samples][pixels][width][height]\n",
    "X_train = X_train.reshape(X_train.shape[0], 28, 28, 1).astype('float32')\n",
    "X_test = X_test.reshape(X_test.shape[0], 28, 28, 1).astype('float32')"
   ]
  },
  {
   "cell_type": "markdown",
   "id": "82a804cb-2ea6-4925-94a1-ef4ba5a2ef1d",
   "metadata": {},
   "source": [
    "Let's normalize the pixel values to be between 0 and 1\n"
   ]
  },
  {
   "cell_type": "code",
   "execution_count": 5,
   "id": "26b2fc47-fbfb-42ce-bfe7-d1cda99d4988",
   "metadata": {},
   "outputs": [],
   "source": [
    "X_train = X_train / 255 # normalize training data\n",
    "X_test = X_test / 255 # normalize test data"
   ]
  },
  {
   "cell_type": "markdown",
   "id": "58622fd9-b0ff-408c-baf5-4db94f8a0a97",
   "metadata": {},
   "source": [
    "Next, let's convert the target variable into binary categories\n"
   ]
  },
  {
   "cell_type": "code",
   "execution_count": 6,
   "id": "c01c40ef-75ba-4c87-954a-4f5ecef7b41f",
   "metadata": {},
   "outputs": [],
   "source": [
    "y_train = to_categorical(y_train)\n",
    "y_test = to_categorical(y_test)\n",
    "\n",
    "num_classes = y_test.shape[1] # number of categories"
   ]
  },
  {
   "cell_type": "markdown",
   "id": "2c42c05a-ae9e-44bc-ab58-5b5c55c6cc43",
   "metadata": {},
   "source": [
    "Next, let's define a function that creates our model. Let's start with one set of convolutional and pooling layers.\n"
   ]
  },
  {
   "cell_type": "code",
   "execution_count": 7,
   "id": "678716df-28c6-4944-872b-2ab253d7ea68",
   "metadata": {},
   "outputs": [],
   "source": [
    "def convolutional_model():\n",
    "    \n",
    "    # create model\n",
    "    model = Sequential()\n",
    "    model.add(Input(shape=(28, 28, 1)))\n",
    "    model.add(Conv2D(16, (5, 5), strides=(1, 1), activation='relu'))\n",
    "    model.add(MaxPooling2D(pool_size=(2, 2), strides=(2, 2)))\n",
    "    \n",
    "    model.add(Flatten())\n",
    "    model.add(Dense(100, activation='relu'))\n",
    "    model.add(Dense(num_classes, activation='softmax'))\n",
    "    \n",
    "    # compile model\n",
    "    model.compile(optimizer='adam', loss='categorical_crossentropy',  metrics=['accuracy'])\n",
    "    return model"
   ]
  },
  {
   "cell_type": "markdown",
   "id": "d94c41fa-0fae-482c-b4f5-0729d31569c2",
   "metadata": {},
   "source": [
    "Finally, let's call the function to create the model, and then let's train it and evaluate it.\n"
   ]
  },
  {
   "cell_type": "code",
   "execution_count": 8,
   "id": "095aa859-c641-4d6d-abb6-a1712a64f89b",
   "metadata": {},
   "outputs": [
    {
     "name": "stdout",
     "output_type": "stream",
     "text": [
      "Epoch 1/10\n",
      "300/300 - 2s - 8ms/step - accuracy: 0.9168 - loss: 0.2980 - val_accuracy: 0.9666 - val_loss: 0.1139\n",
      "Epoch 2/10\n",
      "300/300 - 2s - 5ms/step - accuracy: 0.9732 - loss: 0.0929 - val_accuracy: 0.9816 - val_loss: 0.0638\n",
      "Epoch 3/10\n",
      "300/300 - 2s - 5ms/step - accuracy: 0.9814 - loss: 0.0635 - val_accuracy: 0.9825 - val_loss: 0.0552\n",
      "Epoch 4/10\n",
      "300/300 - 2s - 5ms/step - accuracy: 0.9852 - loss: 0.0499 - val_accuracy: 0.9842 - val_loss: 0.0489\n",
      "Epoch 5/10\n",
      "300/300 - 2s - 5ms/step - accuracy: 0.9875 - loss: 0.0402 - val_accuracy: 0.9858 - val_loss: 0.0435\n",
      "Epoch 6/10\n",
      "300/300 - 2s - 5ms/step - accuracy: 0.9899 - loss: 0.0332 - val_accuracy: 0.9855 - val_loss: 0.0440\n",
      "Epoch 7/10\n",
      "300/300 - 2s - 5ms/step - accuracy: 0.9917 - loss: 0.0284 - val_accuracy: 0.9867 - val_loss: 0.0414\n",
      "Epoch 8/10\n",
      "300/300 - 2s - 5ms/step - accuracy: 0.9926 - loss: 0.0236 - val_accuracy: 0.9867 - val_loss: 0.0393\n",
      "Epoch 9/10\n",
      "300/300 - 2s - 5ms/step - accuracy: 0.9939 - loss: 0.0199 - val_accuracy: 0.9871 - val_loss: 0.0383\n",
      "Epoch 10/10\n",
      "300/300 - 2s - 5ms/step - accuracy: 0.9948 - loss: 0.0174 - val_accuracy: 0.9863 - val_loss: 0.0412\n",
      "Accuracy: 0.986299991607666 \n",
      " Error: 1.3700008392333984\n"
     ]
    }
   ],
   "source": [
    "# build the model\n",
    "model = convolutional_model()\n",
    "\n",
    "# fit the model\n",
    "model.fit(X_train, y_train, validation_data=(X_test, y_test), epochs=10, batch_size=200, verbose=2)\n",
    "\n",
    "# evaluate the model\n",
    "scores = model.evaluate(X_test, y_test, verbose=0)\n",
    "print(\"Accuracy: {} \\n Error: {}\".format(scores[1], 100-scores[1]*100))"
   ]
  },
  {
   "cell_type": "markdown",
   "id": "8346bc8d-b06d-4e59-ab6d-38ab51f7e3a2",
   "metadata": {},
   "source": [
    "## Convolutional Neural Network with Two Sets of Convolutional and Pooling Layers\n"
   ]
  },
  {
   "cell_type": "markdown",
   "id": "ed6adec1-b389-4d45-a94b-c3f378106a02",
   "metadata": {},
   "source": [
    "Let's redefine our convolutional model so that it has two convolutional and pooling layers instead of just one layer of each.\n"
   ]
  },
  {
   "cell_type": "code",
   "execution_count": 9,
   "id": "1238bc6e-7594-48f2-b239-83fd36c4838d",
   "metadata": {},
   "outputs": [],
   "source": [
    "def convolutional_model():\n",
    "    \n",
    "    # create model\n",
    "    model = Sequential()\n",
    "    model.add(Input(shape=(28, 28, 1)))\n",
    "    model.add(Conv2D(16, (5, 5), activation='relu'))\n",
    "    model.add(MaxPooling2D(pool_size=(2, 2), strides=(2, 2)))\n",
    "    \n",
    "    model.add(Conv2D(8, (2, 2), activation='relu'))\n",
    "    model.add(MaxPooling2D(pool_size=(2, 2), strides=(2, 2)))\n",
    "    \n",
    "    model.add(Flatten())\n",
    "    model.add(Dense(100, activation='relu'))\n",
    "    model.add(Dense(num_classes, activation='softmax'))\n",
    "    \n",
    "    # Compile model\n",
    "    model.compile(optimizer='adam', loss='categorical_crossentropy',  metrics=['accuracy'])\n",
    "    return model"
   ]
  },
  {
   "cell_type": "code",
   "execution_count": 10,
   "id": "3c0465aa-295a-49e7-92bb-050edb59e3df",
   "metadata": {},
   "outputs": [
    {
     "name": "stdout",
     "output_type": "stream",
     "text": [
      "Epoch 1/10\n",
      "300/300 - 2s - 8ms/step - accuracy: 0.8713 - loss: 0.4678 - val_accuracy: 0.9621 - val_loss: 0.1327\n",
      "Epoch 2/10\n",
      "300/300 - 2s - 5ms/step - accuracy: 0.9676 - loss: 0.1088 - val_accuracy: 0.9775 - val_loss: 0.0768\n",
      "Epoch 3/10\n",
      "300/300 - 2s - 5ms/step - accuracy: 0.9757 - loss: 0.0789 - val_accuracy: 0.9818 - val_loss: 0.0628\n",
      "Epoch 4/10\n",
      "300/300 - 2s - 5ms/step - accuracy: 0.9807 - loss: 0.0633 - val_accuracy: 0.9835 - val_loss: 0.0514\n",
      "Epoch 5/10\n",
      "300/300 - 2s - 5ms/step - accuracy: 0.9839 - loss: 0.0537 - val_accuracy: 0.9835 - val_loss: 0.0510\n",
      "Epoch 6/10\n",
      "300/300 - 2s - 5ms/step - accuracy: 0.9853 - loss: 0.0475 - val_accuracy: 0.9853 - val_loss: 0.0459\n",
      "Epoch 7/10\n",
      "300/300 - 2s - 6ms/step - accuracy: 0.9873 - loss: 0.0421 - val_accuracy: 0.9875 - val_loss: 0.0388\n",
      "Epoch 8/10\n",
      "300/300 - 2s - 5ms/step - accuracy: 0.9883 - loss: 0.0375 - val_accuracy: 0.9868 - val_loss: 0.0418\n",
      "Epoch 9/10\n",
      "300/300 - 2s - 5ms/step - accuracy: 0.9894 - loss: 0.0342 - val_accuracy: 0.9873 - val_loss: 0.0382\n",
      "Epoch 10/10\n",
      "300/300 - 2s - 5ms/step - accuracy: 0.9904 - loss: 0.0314 - val_accuracy: 0.9884 - val_loss: 0.0351\n",
      "Accuracy: 0.9883999824523926 \n",
      " Error: 1.1600017547607422\n"
     ]
    }
   ],
   "source": [
    "# build the model\n",
    "model = convolutional_model()\n",
    "\n",
    "# fit the model\n",
    "model.fit(X_train, y_train, validation_data=(X_test, y_test), epochs=10, batch_size=200, verbose=2)\n",
    "\n",
    "# evaluate the model\n",
    "scores = model.evaluate(X_test, y_test, verbose=0)\n",
    "print(\"Accuracy: {} \\n Error: {}\".format(scores[1], 100-scores[1]*100))"
   ]
  },
  {
   "cell_type": "markdown",
   "id": "b552fc94-0831-4569-bc0e-c5b9b153b70d",
   "metadata": {},
   "source": [
    "Let's see how batch size affects the time required and accuracy of the model training. \n",
    "For this, you can try to change batch_size to 1024 and check it's effect on accuracy\n"
   ]
  },
  {
   "cell_type": "code",
   "execution_count": 11,
   "id": "f01355d9-0484-4b16-8419-fd6e64640806",
   "metadata": {},
   "outputs": [
    {
     "name": "stdout",
     "output_type": "stream",
     "text": [
      "Epoch 1/10\n",
      "59/59 - 2s - 38ms/step - accuracy: 0.6530 - loss: 1.3176 - val_accuracy: 0.8882 - val_loss: 0.4036\n",
      "Epoch 2/10\n",
      "59/59 - 1s - 22ms/step - accuracy: 0.9151 - loss: 0.2893 - val_accuracy: 0.9455 - val_loss: 0.1912\n",
      "Epoch 3/10\n",
      "59/59 - 1s - 23ms/step - accuracy: 0.9492 - loss: 0.1737 - val_accuracy: 0.9616 - val_loss: 0.1303\n",
      "Epoch 4/10\n",
      "59/59 - 1s - 22ms/step - accuracy: 0.9617 - loss: 0.1309 - val_accuracy: 0.9684 - val_loss: 0.1057\n",
      "Epoch 5/10\n",
      "59/59 - 1s - 22ms/step - accuracy: 0.9678 - loss: 0.1093 - val_accuracy: 0.9731 - val_loss: 0.0890\n",
      "Epoch 6/10\n",
      "59/59 - 1s - 22ms/step - accuracy: 0.9720 - loss: 0.0935 - val_accuracy: 0.9746 - val_loss: 0.0811\n",
      "Epoch 7/10\n",
      "59/59 - 1s - 22ms/step - accuracy: 0.9748 - loss: 0.0828 - val_accuracy: 0.9785 - val_loss: 0.0707\n",
      "Epoch 8/10\n",
      "59/59 - 1s - 21ms/step - accuracy: 0.9773 - loss: 0.0748 - val_accuracy: 0.9799 - val_loss: 0.0642\n",
      "Epoch 9/10\n",
      "59/59 - 1s - 21ms/step - accuracy: 0.9791 - loss: 0.0681 - val_accuracy: 0.9813 - val_loss: 0.0597\n",
      "Epoch 10/10\n",
      "59/59 - 1s - 21ms/step - accuracy: 0.9811 - loss: 0.0627 - val_accuracy: 0.9831 - val_loss: 0.0549\n",
      "Accuracy: 98.31 % \n",
      " Error: 0.02\n"
     ]
    }
   ],
   "source": [
    "# Write your answer here\n",
    "model = convolutional_model()\n",
    "model.fit(X_train, y_train, validation_data=(X_test, y_test), epochs=10, batch_size=1024, verbose=2)\n",
    "scores = model.evaluate(X_test, y_test, verbose=0)\n",
    "print('Accuracy: {:.2f} % \\n Error: {:.2f}'.format(scores[1]*100, 1 - scores[1]))"
   ]
  },
  {
   "cell_type": "markdown",
   "id": "5989a3e9-0d9c-4769-a33d-fc22447a82bd",
   "metadata": {},
   "source": [
    "Now, let's see how number of epochs  affect the time required and accuracy of the model training. \n",
    "For this, you can keep the batch_size=1024 and epochs=25 and check it's effect on accuracy\n"
   ]
  },
  {
   "cell_type": "code",
   "execution_count": 12,
   "id": "f9e95cec-0929-4e21-82f2-88b829c59460",
   "metadata": {},
   "outputs": [
    {
     "name": "stdout",
     "output_type": "stream",
     "text": [
      "Epoch 1/25\n",
      "47/47 - 2s - 40ms/step - accuracy: 0.6080 - loss: 1.4443 - val_accuracy: 0.8531 - val_loss: 0.4901\n",
      "Epoch 2/25\n",
      "47/47 - 1s - 21ms/step - accuracy: 0.8913 - loss: 0.3702 - val_accuracy: 0.9255 - val_loss: 0.2569\n",
      "Epoch 3/25\n",
      "47/47 - 1s - 22ms/step - accuracy: 0.9310 - loss: 0.2369 - val_accuracy: 0.9457 - val_loss: 0.1912\n",
      "Epoch 4/25\n",
      "47/47 - 1s - 23ms/step - accuracy: 0.9488 - loss: 0.1784 - val_accuracy: 0.9544 - val_loss: 0.1564\n",
      "Epoch 5/25\n",
      "47/47 - 1s - 24ms/step - accuracy: 0.9570 - loss: 0.1480 - val_accuracy: 0.9616 - val_loss: 0.1330\n",
      "Epoch 6/25\n",
      "47/47 - 1s - 23ms/step - accuracy: 0.9625 - loss: 0.1277 - val_accuracy: 0.9662 - val_loss: 0.1206\n",
      "Epoch 7/25\n",
      "47/47 - 1s - 23ms/step - accuracy: 0.9652 - loss: 0.1155 - val_accuracy: 0.9680 - val_loss: 0.1100\n",
      "Epoch 8/25\n",
      "47/47 - 1s - 22ms/step - accuracy: 0.9700 - loss: 0.1043 - val_accuracy: 0.9714 - val_loss: 0.0989\n",
      "Epoch 9/25\n",
      "47/47 - 1s - 22ms/step - accuracy: 0.9728 - loss: 0.0937 - val_accuracy: 0.9737 - val_loss: 0.0929\n",
      "Epoch 10/25\n",
      "47/47 - 1s - 22ms/step - accuracy: 0.9744 - loss: 0.0871 - val_accuracy: 0.9738 - val_loss: 0.0896\n",
      "Epoch 11/25\n",
      "47/47 - 1s - 21ms/step - accuracy: 0.9766 - loss: 0.0807 - val_accuracy: 0.9762 - val_loss: 0.0834\n",
      "Epoch 12/25\n",
      "47/47 - 1s - 21ms/step - accuracy: 0.9775 - loss: 0.0760 - val_accuracy: 0.9768 - val_loss: 0.0798\n",
      "Epoch 13/25\n",
      "47/47 - 1s - 21ms/step - accuracy: 0.9789 - loss: 0.0711 - val_accuracy: 0.9789 - val_loss: 0.0741\n",
      "Epoch 14/25\n",
      "47/47 - 1s - 22ms/step - accuracy: 0.9797 - loss: 0.0669 - val_accuracy: 0.9772 - val_loss: 0.0762\n",
      "Epoch 15/25\n",
      "47/47 - 1s - 21ms/step - accuracy: 0.9804 - loss: 0.0644 - val_accuracy: 0.9805 - val_loss: 0.0685\n",
      "Epoch 16/25\n",
      "47/47 - 1s - 22ms/step - accuracy: 0.9823 - loss: 0.0599 - val_accuracy: 0.9806 - val_loss: 0.0678\n",
      "Epoch 17/25\n",
      "47/47 - 1s - 21ms/step - accuracy: 0.9829 - loss: 0.0572 - val_accuracy: 0.9803 - val_loss: 0.0659\n",
      "Epoch 18/25\n",
      "47/47 - 1s - 21ms/step - accuracy: 0.9834 - loss: 0.0541 - val_accuracy: 0.9811 - val_loss: 0.0639\n",
      "Epoch 19/25\n",
      "47/47 - 1s - 21ms/step - accuracy: 0.9842 - loss: 0.0517 - val_accuracy: 0.9811 - val_loss: 0.0656\n",
      "Epoch 20/25\n",
      "47/47 - 1s - 21ms/step - accuracy: 0.9844 - loss: 0.0503 - val_accuracy: 0.9831 - val_loss: 0.0600\n",
      "Epoch 21/25\n",
      "47/47 - 1s - 21ms/step - accuracy: 0.9862 - loss: 0.0462 - val_accuracy: 0.9823 - val_loss: 0.0591\n",
      "Epoch 22/25\n",
      "47/47 - 1s - 21ms/step - accuracy: 0.9868 - loss: 0.0440 - val_accuracy: 0.9842 - val_loss: 0.0575\n",
      "Epoch 23/25\n",
      "47/47 - 1s - 24ms/step - accuracy: 0.9869 - loss: 0.0434 - val_accuracy: 0.9839 - val_loss: 0.0576\n",
      "Epoch 24/25\n",
      "47/47 - 1s - 23ms/step - accuracy: 0.9867 - loss: 0.0423 - val_accuracy: 0.9830 - val_loss: 0.0569\n",
      "Epoch 25/25\n",
      "47/47 - 1s - 21ms/step - accuracy: 0.9878 - loss: 0.0407 - val_accuracy: 0.9831 - val_loss: 0.0583\n",
      "Accuracy: 98.50 % \n",
      " Error: 0.01\n"
     ]
    }
   ],
   "source": [
    "# Write your answer here\n",
    "model = convolutional_model()\n",
    "model.fit(X_train, y_train, validation_split=0.2, epochs=25, batch_size=1024, verbose=2)\n",
    "scores = model.evaluate(X_test, y_test, verbose=0)\n",
    "print('Accuracy: {:.2f} % \\n Error: {:.2f}'.format(scores[1]*100, 1 - scores[1]))"
   ]
  }
 ],
 "metadata": {
  "kernelspec": {
   "display_name": "ibm_2",
   "language": "python",
   "name": "python3"
  },
  "language_info": {
   "codemirror_mode": {
    "name": "ipython",
    "version": 3
   },
   "file_extension": ".py",
   "mimetype": "text/x-python",
   "name": "python",
   "nbconvert_exporter": "python",
   "pygments_lexer": "ipython3",
   "version": "3.9.23"
  },
  "prev_pub_hash": "cf25684b5f40b85f8cce20a89cf822f405779387881f3fd281fbe1317debe407"
 },
 "nbformat": 4,
 "nbformat_minor": 4
}
