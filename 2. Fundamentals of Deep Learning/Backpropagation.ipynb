{
  "cells": [
    {
      "cell_type": "markdown",
      "metadata": {},
      "source": [
        "Backpropagation is the fundamental algorithm used to train neural networks, enabling them to learn from data.\n",
        "It relies on the gradient descent optimization method and functions by repeatedly updating the network's weights and biases to reduce the difference between its predicted outputs and the actual target values.\n",
        "In this lab, you will build a neural network that uses backpropagation to solve the XOR problem."
      ]
    },
    {
      "cell_type": "markdown",
      "metadata": {},
      "source": [
        "# Objective for this notebook\n",
        "\n",
        "* Train a Neural Network to Solve the XOR Problem\n",
        "* Implement Backpropagation for Neural Network Training\n",
        "* Demonstrate the Use of Activation Functions\n",
        "* Understand the Learning Process Over Multiple Epochs\n",
        "* Demonstrate Weight and Bias Adjustments via Gradient Descent\n",
        "* Evaluate the Model's Performance After Training\n",
        "* Monitor and Analyze the Training Process\n"
      ]
    },
    {
      "cell_type": "markdown",
      "metadata": {},
      "source": [
        "# Table of Contents\n",
        "\n",
        "1. Import Required Libraries\n",
        "2. Initialize Inputs\n",
        "3. Declare the network parameters\n",
        "4. Define the weights  \n",
        "5. Training the Neural Network  \n",
        "6. Testing the Network  \n",
        "7. Plot the error  "
      ]
    },
    {
      "cell_type": "code",
      "execution_count": 1,
      "metadata": {},
      "outputs": [
        {
          "name": "stdout",
          "output_type": "stream",
          "text": [
            "Requirement already satisfied: numpy==1.26.4 in c:\\users\\dangw\\anaconda3\\envs\\ibm_2\\lib\\site-packages (1.26.4)\n",
            "Note: you may need to restart the kernel to use updated packages.\n",
            "Requirement already satisfied: matplotlib==3.5.2 in c:\\users\\dangw\\anaconda3\\envs\\ibm_2\\lib\\site-packages (3.5.2)\n",
            "Requirement already satisfied: cycler>=0.10 in c:\\users\\dangw\\anaconda3\\envs\\ibm_2\\lib\\site-packages (from matplotlib==3.5.2) (0.12.1)\n",
            "Requirement already satisfied: fonttools>=4.22.0 in c:\\users\\dangw\\anaconda3\\envs\\ibm_2\\lib\\site-packages (from matplotlib==3.5.2) (4.58.5)\n",
            "Requirement already satisfied: kiwisolver>=1.0.1 in c:\\users\\dangw\\anaconda3\\envs\\ibm_2\\lib\\site-packages (from matplotlib==3.5.2) (1.4.7)\n",
            "Requirement already satisfied: numpy>=1.17 in c:\\users\\dangw\\anaconda3\\envs\\ibm_2\\lib\\site-packages (from matplotlib==3.5.2) (1.26.4)\n",
            "Requirement already satisfied: packaging>=20.0 in c:\\users\\dangw\\anaconda3\\envs\\ibm_2\\lib\\site-packages (from matplotlib==3.5.2) (25.0)\n",
            "Requirement already satisfied: pillow>=6.2.0 in c:\\users\\dangw\\anaconda3\\envs\\ibm_2\\lib\\site-packages (from matplotlib==3.5.2) (11.3.0)\n",
            "Requirement already satisfied: pyparsing>=2.2.1 in c:\\users\\dangw\\anaconda3\\envs\\ibm_2\\lib\\site-packages (from matplotlib==3.5.2) (3.2.3)\n",
            "Requirement already satisfied: python-dateutil>=2.7 in c:\\users\\dangw\\anaconda3\\envs\\ibm_2\\lib\\site-packages (from matplotlib==3.5.2) (2.9.0.post0)\n",
            "Requirement already satisfied: six>=1.5 in c:\\users\\dangw\\anaconda3\\envs\\ibm_2\\lib\\site-packages (from python-dateutil>=2.7->matplotlib==3.5.2) (1.17.0)\n",
            "Note: you may need to restart the kernel to use updated packages.\n"
          ]
        }
      ],
      "source": [
        "%pip install numpy==1.26.4\n",
        "%pip install matplotlib==3.5.2"
      ]
    },
    {
      "cell_type": "markdown",
      "metadata": {},
      "source": [
        "## Import Required Libraries\n"
      ]
    },
    {
      "cell_type": "code",
      "execution_count": 2,
      "metadata": {},
      "outputs": [],
      "source": [
        "import numpy as np\n",
        "import matplotlib.pyplot as plt"
      ]
    },
    {
      "cell_type": "markdown",
      "metadata": {},
      "source": [
        "## Initialize Inputs\n",
        "Define the input and expected output for a XOR gate problem\n"
      ]
    },
    {
      "cell_type": "code",
      "execution_count": 3,
      "metadata": {},
      "outputs": [],
      "source": [
        "X = np.array([[0, 0], [0, 1], [1, 0], [1, 1]]).T  # 2x4 matrix, each column is a training example\n",
        "d = np.array([0, 1, 1, 0])  # Expected output for XOR"
      ]
    },
    {
      "cell_type": "markdown",
      "metadata": {},
      "source": [
        "# Declare the network parameters & the weights\n",
        "\n",
        "Define the network parameters such as\n",
        "1. number of input neurons\n",
        "2. hidden layer neurons\n",
        "3. output neurons\n",
        "4. learning rate\n",
        "5. number of epochs\n",
        "\n",
        "Also, Declare the weights for the neurons. The initial weights are taken as random numbers which are then optimized by the backpropagation algorithm inside a function parameter `initialize_network_parameters()`\n"
      ]
    },
    {
      "cell_type": "code",
      "execution_count": 4,
      "metadata": {},
      "outputs": [],
      "source": [
        "def initialize_network_parameters(inputSize, hiddenSize, outputSize, lr, epochs):\n",
        "    # Initialize weights and biases randomly within the range [-1, 1]\n",
        "    w1 = (np.random.rand(hiddenSize, inputSize) * 2) - 1  # Weights from input to hidden layer\n",
        "    b1 = (np.random.rand(hiddenSize, 1) * 2) - 1          # Bias for hidden layer\n",
        "    w2 = (np.random.rand(outputSize, hiddenSize) * 2) - 1 # Weights from hidden to output layer\n",
        "    b2 = (np.random.rand(outputSize, 1) * 2) - 1          # Bias for output layer\n",
        "\n",
        "    return w1, b1, w2, b2, lr, epochs\n"
      ]
    },
    {
      "cell_type": "markdown",
      "metadata": {},
      "source": [
        "## Training the Neural Network\n",
        "\n",
        "The neural network works in 5 stages: \n",
        "1. Forward pass\n",
        "    * The input **X** is multiplied by the weights **w1** and passed through the first layer, followed by the application of the sigmoid or ReLU activation function. This gives the output for the hidden layer.\n",
        "    * The output of the hidden layer is then passed through the second set of weights **w2** to compute the final output. Again, a sigmoid activation function is used to generate the final output **a2**.\n",
        "    \n",
        "2. Error calculation\n",
        "    * The error is computed as the difference between the expected output **(d)** and the actual output **(a2)**.\n",
        "3. Backward pass\n",
        "    * **Output Layer**: The derivative of the sigmoid activation function is applied to the error, producing the gradient for the output layer **(da2)**. This is used to calculate how much the weights in the output layer need to be adjusted.\n",
        "    * **Hidden Layer**: The error is then propagated backward to the hidden layer. The gradient at the hidden layer **(da1)** is computed by taking the dot product of the transpose of the weights **(w2.T)** and the gradient from the output layer. The derivative of the activation function (sigmoid or ReLU) is used to adjust this error.\n",
        "4. Weights and bias updates\n",
        "    * After computing the **gradients (dz1, dz2)**, the **weights (w1, w2)** and **biases (b1, b2)** are updated using the **learning rate (lr)** and **the gradients**. The updates are done to minimize the error and improve the model’s predictions.\n",
        "5. Training:\n",
        "    * This entire process is repeated over many iterations **(epochs)**. During each epoch, the model adjusts its weights and biases to reduce the error. Over time, the network learns to approximate the XOR function.\n",
        "Forward Pass:\n",
        "\n"
      ]
    },
    {
      "cell_type": "code",
      "execution_count": 5,
      "metadata": {},
      "outputs": [
        {
          "name": "stdout",
          "output_type": "stream",
          "text": [
            "Epoch: 9999, Average error: 0.05464\n",
            "Epoch: 19999, Average error: 0.03086\n",
            "Epoch: 29999, Average error: 0.02353\n",
            "Epoch: 39999, Average error: 0.01969\n",
            "Epoch: 49999, Average error: 0.01724\n",
            "Epoch: 59999, Average error: 0.01551\n",
            "Epoch: 69999, Average error: 0.01420\n",
            "Epoch: 79999, Average error: 0.01318\n",
            "Epoch: 89999, Average error: 0.01234\n",
            "Epoch: 99999, Average error: 0.01164\n",
            "Epoch: 109999, Average error: 0.01105\n",
            "Epoch: 119999, Average error: 0.01054\n",
            "Epoch: 129999, Average error: 0.01009\n",
            "Epoch: 139999, Average error: 0.00969\n",
            "Epoch: 149999, Average error: 0.00934\n",
            "Epoch: 159999, Average error: 0.00902\n",
            "Epoch: 169999, Average error: 0.00873\n",
            "Epoch: 179999, Average error: 0.00847\n"
          ]
        }
      ],
      "source": [
        "# Get initialized parameters\n",
        "w1, b1, w2, b2, lr, epochs = initialize_network_parameters(2, 2, 1, 0.1, 180000)\n",
        "\n",
        "# Training the network using backpropagation\n",
        "error_list = []\n",
        "for epoch in range(epochs):\n",
        "    # Forward pass\n",
        "    z1 = np.dot(w1, X) + b1  # Weighted sum for hidden layer\n",
        "    a1 = 1 / (1 + np.exp(-z1))  # Sigmoid activation for hidden layer\n",
        "\n",
        "    z2 = np.dot(w2, a1) + b2  # Weighted sum for output layer\n",
        "    a2 = 1 / (1 + np.exp(-z2))  # Sigmoid activation for output layer\n",
        "\n",
        "    # Error calculation and backpropagation\n",
        "    error = d - a2  # Difference between expected and actual output\n",
        "    da2 = error * (a2 * (1 - a2))  # Derivative for output layer\n",
        "    dz2 = da2  # Gradient for output layer\n",
        "\n",
        "    # Propagate error to hidden layer\n",
        "    # This line calculates how the error from the output layer (dz2) influences the hidden layer activations (a1).\n",
        "    da1 = np.dot(w2.T, dz2)  # Gradient for hidden layer\n",
        "    dz1 = da1 * (a1 * (1 - a1))  # Derivative for hidden layer\n",
        "\n",
        "    # Update weights and biases\n",
        "    w2 += lr * np.dot(dz2, a1.T)  # Update weights from hidden to output layer\n",
        "    b2 += lr * np.sum(dz2, axis=1, keepdims=True)  # Update bias for output layer\n",
        "\n",
        "    w1 += lr * np.dot(dz1, X.T)  # Update weights from input to hidden layer\n",
        "    b1 += lr * np.sum(dz1, axis=1, keepdims=True)  # Update bias for hidden layer\n",
        "    if (epoch+1)%10000 == 0:\n",
        "        print(\"Epoch: %d, Average error: %0.05f\"%(epoch, np.average(abs(error))))\n",
        "        error_list.append(np.average(abs(error)))"
      ]
    },
    {
      "cell_type": "markdown",
      "metadata": {},
      "source": [
        "## Testing the Network\n",
        "After training, you can now test the neural network to verify that it has learned the XOR function and outputs the correct values close to [0, 1, 1, 0]\n"
      ]
    },
    {
      "cell_type": "code",
      "execution_count": 6,
      "metadata": {},
      "outputs": [
        {
          "name": "stdout",
          "output_type": "stream",
          "text": [
            "Final output after training: [[0.00778859 0.99189786 0.99192274 0.00991678]]\n",
            "Ground truth [0 1 1 0]\n",
            "Error after training: [[-0.00778861  0.00810217  0.00807728 -0.00991681]]\n",
            "Average error: 0.00847\n"
          ]
        }
      ],
      "source": [
        "# Testing the trained network\n",
        "z1 = np.dot(w1, X) + b1  # Weighted sum for hidden layer\n",
        "a1 = 1 / (1 + np.exp(-z1))  # Sigmoid activation for hidden layer\n",
        "\n",
        "z2 = np.dot(w2, a1) + b2  # Weighted sum for output layer\n",
        "a2 = 1 / (1 + np.exp(-z2))  # Sigmoid activation for output layer\n",
        "\n",
        "# Print results\n",
        "print('Final output after training:', a2)\n",
        "print('Ground truth', d)\n",
        "print('Error after training:', error)\n",
        "print('Average error: %0.05f'%np.average(abs(error)))\n",
        "\n"
      ]
    },
    {
      "cell_type": "markdown",
      "metadata": {},
      "source": [
        "## Plot the error\n",
        "Here, we plot the error as a function of epochs. This shows how error changed over multiple iterations of forward and backward passes and how the network learnt over time\n"
      ]
    },
    {
      "cell_type": "code",
      "execution_count": 7,
      "metadata": {},
      "outputs": [
        {
          "data": {
            "image/png": "[encoded data removed]",
            "text/plain": [
              "<Figure size 640x480 with 1 Axes>"
            ]
          },
          "metadata": {},
          "output_type": "display_data"
        }
      ],
      "source": [
        "# Plot error\n",
        "plt.plot(error_list)\n",
        "plt.title('Error')\n",
        "plt.xlabel('Epochs')\n",
        "plt.ylabel('Error')\n",
        "plt.show()"
      ]
    },
    {
      "cell_type": "markdown",
      "metadata": {},
      "source": [
        "Implement backpropagation for **AND problem** using similar input as used for XOR problem above and plot the error\n"
      ]
    },
    {
      "cell_type": "code",
      "execution_count": 8,
      "metadata": {},
      "outputs": [
        {
          "name": "stdout",
          "output_type": "stream",
          "text": [
            "Epoch: 9999, Average error: 0.02524\n",
            "Epoch: 19999, Average error: 0.01509\n",
            "Epoch: 29999, Average error: 0.01149\n",
            "Epoch: 39999, Average error: 0.00955\n",
            "Epoch: 49999, Average error: 0.00832\n",
            "Epoch: 59999, Average error: 0.00744\n",
            "Epoch: 69999, Average error: 0.00679\n",
            "Epoch: 79999, Average error: 0.00627\n",
            "Epoch: 89999, Average error: 0.00586\n",
            "Epoch: 99999, Average error: 0.00551\n",
            "Epoch: 109999, Average error: 0.00522\n",
            "Epoch: 119999, Average error: 0.00496\n",
            "Epoch: 129999, Average error: 0.00474\n",
            "Epoch: 139999, Average error: 0.00455\n",
            "Epoch: 149999, Average error: 0.00438\n",
            "Epoch: 159999, Average error: 0.00422\n",
            "Epoch: 169999, Average error: 0.00408\n",
            "Epoch: 179999, Average error: 0.00395\n",
            "\n",
            "Final output after training: [[1.15879084e-04 4.61898525e-03 4.22221423e-03 9.93148649e-01]]\n",
            "Ground truth [0 0 0 1]\n",
            "Error after training: [[-0.00011588 -0.004619   -0.00422223  0.00685137]]\n",
            "Average error: 0.00395\n"
          ]
        },
        {
          "data": {
            "image/png": "[encoded data removed]",
            "text/plain": [
              "<Figure size 640x480 with 1 Axes>"
            ]
          },
          "metadata": {},
          "output_type": "display_data"
        }
      ],
      "source": [
        "X = np.array([[0, 0], [0, 1], [1, 0], [1, 1]]).T\n",
        "y = np.array([0, 0, 0, 1])\n",
        "\n",
        "and_w1, and_b1, and_w2, and_b2, and_lr, and_epochs = initialize_network_parameters(2, 2, 1, 0.1, 180000)\n",
        "\n",
        "\n",
        "# Training the network using backpropagation\n",
        "error_list = []\n",
        "for epoch in range(and_epochs):\n",
        "    # Forward pass\n",
        "    and_z1 = np.dot(and_w1, X) + and_b1  # Weighted sum for hidden layer\n",
        "    and_a1 = 1 / (1 + np.exp(-and_z1))  # Sigmoid activation for hidden layer\n",
        "\n",
        "    and_z2 = np.dot(and_w2, and_a1) + and_b2  # Weighted sum for output layer\n",
        "    and_a2 = 1 / (1 + np.exp(-and_z2))  # Sigmoid activation for output layer\n",
        "\n",
        "    # Error calculation and backpropagation\n",
        "    error = y - and_a2  # Difference between expected and actual output\n",
        "    and_da2 = error * (and_a2 * (1 - and_a2))  # Derivative for output layer\n",
        "    and_dz2 = and_da2  # Gradient for output layer\n",
        "\n",
        "    # Propagate error to hidden layer\n",
        "    # This line calculates how the error from the output layer (dz2) influences the hidden layer activations (a1).\n",
        "    and_da1 = np.dot(and_w2.T, and_dz2)  # Gradient for hidden layer\n",
        "    and_dz1 = and_da1 * (and_a1 * (1 - and_a1))  # Derivative for hidden layer\n",
        "\n",
        "    # Update weights and biases\n",
        "    and_w2 += and_lr * np.dot(and_dz2, and_a1.T)  # Update weights from hidden to output layer\n",
        "    and_b2 += and_lr * np.sum(and_dz2, axis=1, keepdims=True)  # Update bias for output layer\n",
        "\n",
        "    and_w1 += and_lr * np.dot(and_dz1, X.T)  # Update weights from input to hidden layer\n",
        "    and_b1 += and_lr * np.sum(and_dz1, axis=1, keepdims=True)  # Update bias for hidden layer\n",
        "    if (epoch+1)%10000 == 0:\n",
        "        print(\"Epoch: %d, Average error: %0.05f\"%(epoch, np.average(abs(error))))\n",
        "        error_list.append(np.average(abs(error)))\n",
        "\n",
        "\n",
        "# Testing the trained network\n",
        "and_z1 = np.dot(and_w1, X) + and_b1  # Weighted sum for hidden layer\n",
        "and_a1 = 1 / (1 + np.exp(-and_z1))  # Sigmoid activation for hidden layer\n",
        "\n",
        "and_z2 = np.dot(and_w2, and_a1) + and_b2  # Weighted sum for output layer\n",
        "and_a2 = 1 / (1 + np.exp(-and_z2))  # Sigmoid activation for output layer\n",
        "\n",
        "# Print results\n",
        "print('\\nFinal output after training:', and_a2)\n",
        "print('Ground truth', y)\n",
        "print('Error after training:', error)\n",
        "print('Average error: %0.05f'%np.average(abs(error)))\n",
        "\n",
        "# Plot error\n",
        "plt.plot(error_list)\n",
        "plt.title('Error')\n",
        "plt.xlabel('Epochs')\n",
        "plt.ylabel('Error')\n",
        "plt.show()"
      ]
    },
    {
      "cell_type": "markdown",
      "metadata": {},
      "source": [
        "Now, decrease the learning rate to 0.01 and increase the number of epochs to 1000000 and check the error for XOR gate\n"
      ]
    },
    {
      "cell_type": "code",
      "execution_count": 10,
      "metadata": {},
      "outputs": [
        {
          "name": "stdout",
          "output_type": "stream",
          "text": [
            "Epoch: 9999, Average error: 0.49855\n",
            "Epoch: 19999, Average error: 0.48606\n",
            "Epoch: 29999, Average error: 0.40731\n",
            "Epoch: 39999, Average error: 0.33700\n",
            "Epoch: 49999, Average error: 0.30951\n",
            "Epoch: 59999, Average error: 0.29623\n",
            "Epoch: 69999, Average error: 0.28845\n",
            "Epoch: 79999, Average error: 0.28330\n",
            "Epoch: 89999, Average error: 0.27961\n",
            "Epoch: 99999, Average error: 0.27683\n",
            "Epoch: 109999, Average error: 0.27465\n",
            "Epoch: 119999, Average error: 0.27288\n",
            "Epoch: 129999, Average error: 0.27141\n",
            "Epoch: 139999, Average error: 0.27017\n",
            "Epoch: 149999, Average error: 0.26911\n",
            "Epoch: 159999, Average error: 0.26818\n",
            "Epoch: 169999, Average error: 0.26737\n",
            "Epoch: 179999, Average error: 0.26665\n",
            "Epoch: 189999, Average error: 0.26600\n",
            "Epoch: 199999, Average error: 0.26542\n",
            "Epoch: 209999, Average error: 0.26489\n",
            "Epoch: 219999, Average error: 0.26441\n",
            "Epoch: 229999, Average error: 0.26397\n",
            "Epoch: 239999, Average error: 0.26357\n",
            "Epoch: 249999, Average error: 0.26319\n",
            "Epoch: 259999, Average error: 0.26284\n",
            "Epoch: 269999, Average error: 0.26252\n",
            "Epoch: 279999, Average error: 0.26222\n",
            "Epoch: 289999, Average error: 0.26194\n",
            "Epoch: 299999, Average error: 0.26167\n",
            "Epoch: 309999, Average error: 0.26142\n",
            "Epoch: 319999, Average error: 0.26119\n",
            "Epoch: 329999, Average error: 0.26097\n",
            "Epoch: 339999, Average error: 0.26076\n",
            "Epoch: 349999, Average error: 0.26056\n",
            "Epoch: 359999, Average error: 0.26037\n",
            "Epoch: 369999, Average error: 0.26019\n",
            "Epoch: 379999, Average error: 0.26001\n",
            "Epoch: 389999, Average error: 0.25985\n",
            "Epoch: 399999, Average error: 0.25969\n",
            "Epoch: 409999, Average error: 0.25954\n",
            "Epoch: 419999, Average error: 0.25940\n",
            "Epoch: 429999, Average error: 0.25926\n",
            "Epoch: 439999, Average error: 0.25913\n",
            "Epoch: 449999, Average error: 0.25900\n",
            "Epoch: 459999, Average error: 0.25888\n",
            "Epoch: 469999, Average error: 0.25876\n",
            "Epoch: 479999, Average error: 0.25865\n",
            "Epoch: 489999, Average error: 0.25854\n",
            "Epoch: 499999, Average error: 0.25843\n",
            "Epoch: 509999, Average error: 0.25833\n",
            "Epoch: 519999, Average error: 0.25823\n",
            "Epoch: 529999, Average error: 0.25814\n",
            "Epoch: 539999, Average error: 0.25804\n",
            "Epoch: 549999, Average error: 0.25796\n",
            "Epoch: 559999, Average error: 0.25787\n",
            "Epoch: 569999, Average error: 0.25778\n",
            "Epoch: 579999, Average error: 0.25770\n",
            "Epoch: 589999, Average error: 0.25762\n",
            "Epoch: 599999, Average error: 0.25755\n",
            "Epoch: 609999, Average error: 0.25747\n",
            "Epoch: 619999, Average error: 0.25740\n",
            "Epoch: 629999, Average error: 0.25733\n",
            "Epoch: 639999, Average error: 0.25726\n",
            "Epoch: 649999, Average error: 0.25719\n",
            "Epoch: 659999, Average error: 0.25713\n",
            "Epoch: 669999, Average error: 0.25706\n",
            "Epoch: 679999, Average error: 0.25700\n",
            "Epoch: 689999, Average error: 0.25694\n",
            "Epoch: 699999, Average error: 0.25688\n",
            "Epoch: 709999, Average error: 0.25682\n",
            "Epoch: 719999, Average error: 0.25676\n",
            "Epoch: 729999, Average error: 0.25671\n",
            "Epoch: 739999, Average error: 0.25666\n",
            "Epoch: 749999, Average error: 0.25660\n",
            "Epoch: 759999, Average error: 0.25655\n",
            "Epoch: 769999, Average error: 0.25650\n",
            "Epoch: 779999, Average error: 0.25645\n",
            "Epoch: 789999, Average error: 0.25640\n",
            "Epoch: 799999, Average error: 0.25636\n",
            "Epoch: 809999, Average error: 0.25631\n",
            "Epoch: 819999, Average error: 0.25626\n",
            "Epoch: 829999, Average error: 0.25622\n",
            "Epoch: 839999, Average error: 0.25618\n",
            "Epoch: 849999, Average error: 0.25613\n",
            "Epoch: 859999, Average error: 0.25609\n",
            "Epoch: 869999, Average error: 0.25605\n",
            "Epoch: 879999, Average error: 0.25601\n",
            "Epoch: 889999, Average error: 0.25597\n",
            "Epoch: 899999, Average error: 0.25593\n",
            "Epoch: 909999, Average error: 0.25589\n",
            "Epoch: 919999, Average error: 0.25586\n",
            "Epoch: 929999, Average error: 0.25582\n",
            "Epoch: 939999, Average error: 0.25578\n",
            "Epoch: 949999, Average error: 0.25575\n",
            "Epoch: 959999, Average error: 0.25571\n",
            "Epoch: 969999, Average error: 0.25568\n",
            "Epoch: 979999, Average error: 0.25564\n",
            "Epoch: 989999, Average error: 0.25561\n",
            "Epoch: 999999, Average error: 0.25558\n",
            "Final output after training: [[0.0104629  0.49978538 0.98864362 0.50028055]]\n",
            "Ground truth [0 1 1 0]\n",
            "Error after training: [[-0.0104629   0.50021462  0.01135639 -0.50028055]]\n",
            "Average error: 0.25558\n"
          ]
        },
        {
          "data": {
            "image/png": "[encoded data removed]",
            "text/plain": [
              "<Figure size 640x480 with 1 Axes>"
            ]
          },
          "metadata": {},
          "output_type": "display_data"
        }
      ],
      "source": [
        "# Get initialized parameters\n",
        "w1, b1, w2, b2, lr, epochs = initialize_network_parameters(2, 2, 1, 0.01, 1000000)\n",
        "\n",
        "# Training the network using backpropagation\n",
        "error_list = []\n",
        "for epoch in range(epochs):\n",
        "    # Forward pass\n",
        "    z1 = np.dot(w1, X) + b1  # Weighted sum for hidden layer\n",
        "    a1 = 1 / (1 + np.exp(-z1))  # Sigmoid activation for hidden layer\n",
        "\n",
        "    z2 = np.dot(w2, a1) + b2  # Weighted sum for output layer\n",
        "    a2 = 1 / (1 + np.exp(-z2))  # Sigmoid activation for output layer\n",
        "\n",
        "    # Error calculation and backpropagation\n",
        "    error = d - a2  # Difference between expected and actual output\n",
        "    da2 = error * (a2 * (1 - a2))  # Derivative for output layer\n",
        "    dz2 = da2  # Gradient for output layer\n",
        "\n",
        "    # Propagate error to hidden layer\n",
        "    # This line calculates how the error from the output layer (dz2) influences the hidden layer activations (a1).\n",
        "    da1 = np.dot(w2.T, dz2)  # Gradient for hidden layer\n",
        "    dz1 = da1 * (a1 * (1 - a1))  # Derivative for hidden layer\n",
        "\n",
        "    # Update weights and biases\n",
        "    w2 += lr * np.dot(dz2, a1.T)  # Update weights from hidden to output layer\n",
        "    b2 += lr * np.sum(dz2, axis=1, keepdims=True)  # Update bias for output layer\n",
        "\n",
        "    w1 += lr * np.dot(dz1, X.T)  # Update weights from input to hidden layer\n",
        "    b1 += lr * np.sum(dz1, axis=1, keepdims=True)  # Update bias for hidden layer\n",
        "    if (epoch+1)%10000 == 0:\n",
        "        print(\"Epoch: %d, Average error: %0.05f\"%(epoch, np.average(abs(error))))\n",
        "        error_list.append(np.average(abs(error)))\n",
        "\n",
        "\n",
        "# Testing the trained network\n",
        "z1 = np.dot(w1, X) + b1  # Weighted sum for hidden layer\n",
        "a1 = 1 / (1 + np.exp(-z1))  # Sigmoid activation for hidden layer\n",
        "\n",
        "z2 = np.dot(w2, a1) + b2  # Weighted sum for output layer\n",
        "a2 = 1 / (1 + np.exp(-z2))  # Sigmoid activation for output layer\n",
        "\n",
        "# Print results\n",
        "print('Final output after training:', a2)\n",
        "print('Ground truth', d)\n",
        "print('Error after training:', error)\n",
        "print('Average error: %0.05f'%np.average(abs(error)))\n",
        "\n",
        "# Plot error\n",
        "plt.plot(error_list)\n",
        "plt.title('Error')\n",
        "plt.xlabel('Epochs')\n",
        "plt.ylabel('Error')\n",
        "plt.show()"
      ]
    }
  ],
  "metadata": {
    "kernelspec": {
      "display_name": "ibm_2",
      "language": "python",
      "name": "python3"
    },
    "language_info": {
      "codemirror_mode": {
        "name": "ipython",
        "version": 3
      },
      "file_extension": ".py",
      "mimetype": "text/x-python",
      "name": "python",
      "nbconvert_exporter": "python",
      "pygments_lexer": "ipython3",
      "version": "3.9.23"
    },
    "prev_pub_hash": "23c643c8c1aa843c3873f66d020bff9ca5df91f975ec512e5214e2cad5adc399"
  },
  "nbformat": 4,
  "nbformat_minor": 4
}
