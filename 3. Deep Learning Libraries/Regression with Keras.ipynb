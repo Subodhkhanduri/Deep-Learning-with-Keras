{
 "cells": [
  {
   "cell_type": "markdown",
   "id": "56de949e-2f07-4bfc-b596-66c4dbc3ad08",
   "metadata": {},
   "source": [
    "## Introduction\n"
   ]
  },
  {
   "cell_type": "markdown",
   "id": "40c8c644-1745-44f1-ac92-417fcfd89e91",
   "metadata": {},
   "source": [
    "Keras is a high-level API for building deep learning models.\n",
    "In this notebook, you will learn how to use the Keras library to build a regression model."
   ]
  },
  {
   "cell_type": "markdown",
   "id": "926d0b44-e9c9-4fb0-9d79-1dedf08b7548",
   "metadata": {},
   "source": [
    "## Table of Contents\n",
    "    \n",
    "1. Download and Clean the Data Set  \n",
    "2. Import Keras Packages\n",
    "3. Build a Neural Network\n",
    "4. Train and Test the Network "
   ]
  },
  {
   "cell_type": "markdown",
   "id": "44711dc8-f383-431f-9704-c403df1bd032",
   "metadata": {},
   "source": [
    "## Download and Clean the  Data Set\n"
   ]
  },
  {
   "cell_type": "markdown",
   "id": "9d5804de-a405-42b7-8383-5e9f9a98410e",
   "metadata": {},
   "source": [
    "Let's start by importing the <em>pandas</em> and the Numpy libraries.\n"
   ]
  },
  {
   "cell_type": "code",
   "execution_count": null,
   "id": "17c66237-b921-4ba6-ae65-b42b07b42008",
   "metadata": {},
   "outputs": [],
   "source": [
    "%pip install numpy==2.0.2\n",
    "%pip install pandas==2.2.2\n",
    "%pip install tensorflow_cpu==2.18.0"
   ]
  },
  {
   "cell_type": "code",
   "execution_count": 2,
   "id": "32f50378-a0d4-447d-909f-bc75d88df8b8",
   "metadata": {},
   "outputs": [],
   "source": [
    "import pandas as pd\n",
    "import numpy as np\n",
    "import keras\n",
    "\n",
    "import warnings\n",
    "warnings.simplefilter('ignore', FutureWarning)"
   ]
  },
  {
   "cell_type": "markdown",
   "id": "28470001-211a-4270-a742-32e4bdc239bc",
   "metadata": {},
   "source": [
    "The dataset is about the compressive strength of different samples of concrete based on the volumes of the different ingredients that were used to make them. Ingredients include:\n",
    "\n",
    "* Cement\n",
    "* Blast furnace slag\n",
    "* Fly ash\n",
    "* Water\n",
    "* Superplasticizer\n",
    "* Coarse aggregate\n",
    "* Fine aggregate\n"
   ]
  },
  {
   "cell_type": "markdown",
   "id": "ae54918e-64e4-40c3-8738-122870ef7c10",
   "metadata": {},
   "source": [
    "Let's download the data and read it into a <em>pandas</em> dataframe.\n"
   ]
  },
  {
   "cell_type": "code",
   "execution_count": 3,
   "id": "5f1e26e4-268b-4fe2-8538-688611b57561",
   "metadata": {},
   "outputs": [
    {
     "data": {
      "text/html": [
       "<div>\n",
       "<style scoped>\n",
       "    .dataframe tbody tr th:only-of-type {\n",
       "        vertical-align: middle;\n",
       "    }\n",
       "\n",
       "    .dataframe tbody tr th {\n",
       "        vertical-align: top;\n",
       "    }\n",
       "\n",
       "    .dataframe thead th {\n",
       "        text-align: right;\n",
       "    }\n",
       "</style>\n",
       "<table border=\"1\" class=\"dataframe\">\n",
       "  <thead>\n",
       "    <tr style=\"text-align: right;\">\n",
       "      <th></th>\n",
       "      <th>Cement</th>\n",
       "      <th>Blast Furnace Slag</th>\n",
       "      <th>Fly Ash</th>\n",
       "      <th>Water</th>\n",
       "      <th>Superplasticizer</th>\n",
       "      <th>Coarse Aggregate</th>\n",
       "      <th>Fine Aggregate</th>\n",
       "      <th>Age</th>\n",
       "      <th>Strength</th>\n",
       "    </tr>\n",
       "  </thead>\n",
       "  <tbody>\n",
       "    <tr>\n",
       "      <th>0</th>\n",
       "      <td>540.0</td>\n",
       "      <td>0.0</td>\n",
       "      <td>0.0</td>\n",
       "      <td>162.0</td>\n",
       "      <td>2.5</td>\n",
       "      <td>1040.0</td>\n",
       "      <td>676.0</td>\n",
       "      <td>28</td>\n",
       "      <td>79.99</td>\n",
       "    </tr>\n",
       "    <tr>\n",
       "      <th>1</th>\n",
       "      <td>540.0</td>\n",
       "      <td>0.0</td>\n",
       "      <td>0.0</td>\n",
       "      <td>162.0</td>\n",
       "      <td>2.5</td>\n",
       "      <td>1055.0</td>\n",
       "      <td>676.0</td>\n",
       "      <td>28</td>\n",
       "      <td>61.89</td>\n",
       "    </tr>\n",
       "    <tr>\n",
       "      <th>2</th>\n",
       "      <td>332.5</td>\n",
       "      <td>142.5</td>\n",
       "      <td>0.0</td>\n",
       "      <td>228.0</td>\n",
       "      <td>0.0</td>\n",
       "      <td>932.0</td>\n",
       "      <td>594.0</td>\n",
       "      <td>270</td>\n",
       "      <td>40.27</td>\n",
       "    </tr>\n",
       "    <tr>\n",
       "      <th>3</th>\n",
       "      <td>332.5</td>\n",
       "      <td>142.5</td>\n",
       "      <td>0.0</td>\n",
       "      <td>228.0</td>\n",
       "      <td>0.0</td>\n",
       "      <td>932.0</td>\n",
       "      <td>594.0</td>\n",
       "      <td>365</td>\n",
       "      <td>41.05</td>\n",
       "    </tr>\n",
       "    <tr>\n",
       "      <th>4</th>\n",
       "      <td>198.6</td>\n",
       "      <td>132.4</td>\n",
       "      <td>0.0</td>\n",
       "      <td>192.0</td>\n",
       "      <td>0.0</td>\n",
       "      <td>978.4</td>\n",
       "      <td>825.5</td>\n",
       "      <td>360</td>\n",
       "      <td>44.30</td>\n",
       "    </tr>\n",
       "  </tbody>\n",
       "</table>\n",
       "</div>"
      ],
      "text/plain": [
       "   Cement  Blast Furnace Slag  Fly Ash  Water  Superplasticizer  \\\n",
       "0   540.0                 0.0      0.0  162.0               2.5   \n",
       "1   540.0                 0.0      0.0  162.0               2.5   \n",
       "2   332.5               142.5      0.0  228.0               0.0   \n",
       "3   332.5               142.5      0.0  228.0               0.0   \n",
       "4   198.6               132.4      0.0  192.0               0.0   \n",
       "\n",
       "   Coarse Aggregate  Fine Aggregate  Age  Strength  \n",
       "0            1040.0           676.0   28     79.99  \n",
       "1            1055.0           676.0   28     61.89  \n",
       "2             932.0           594.0  270     40.27  \n",
       "3             932.0           594.0  365     41.05  \n",
       "4             978.4           825.5  360     44.30  "
      ]
     },
     "execution_count": 3,
     "metadata": {},
     "output_type": "execute_result"
    }
   ],
   "source": [
    "filepath='https://s3-api.us-geo.objectstorage.softlayer.net/cf-courses-data/CognitiveClass/DL0101EN/labs/data/concrete_data.csv'\n",
    "concrete_data = pd.read_csv(filepath)\n",
    "\n",
    "concrete_data.head()"
   ]
  },
  {
   "cell_type": "markdown",
   "id": "40b04058-b925-47ae-a94a-23dddfc34166",
   "metadata": {},
   "source": [
    "So the first concrete sample has 540 cubic meter of cement, 0 cubic meter of blast furnace slag, 0 cubic meter of fly ash, 162 cubic meter of water, 2.5 cubic meter of superplaticizer, 1040 cubic meter of coarse aggregate, 676 cubic meter of fine aggregate. Such a concrete mix which is 28 days old, has a compressive strength of 79.99 MPa. \n"
   ]
  },
  {
   "cell_type": "code",
   "execution_count": 4,
   "id": "954b6e9a-5b70-44a9-aed4-dab6bbc42230",
   "metadata": {},
   "outputs": [
    {
     "data": {
      "text/plain": [
       "(1030, 9)"
      ]
     },
     "execution_count": 4,
     "metadata": {},
     "output_type": "execute_result"
    }
   ],
   "source": [
    "concrete_data.shape"
   ]
  },
  {
   "cell_type": "markdown",
   "id": "a2e3375b-0821-4822-b928-b40ad2575882",
   "metadata": {},
   "source": [
    "So, there are approximately 1000 samples to train our model on. Because of the few samples, we have to be careful not to overfit the training data.\n"
   ]
  },
  {
   "cell_type": "code",
   "execution_count": 5,
   "id": "c6bb2a79-be5a-49b8-9b3b-f98a0b95855c",
   "metadata": {},
   "outputs": [
    {
     "data": {
      "text/html": [
       "<div>\n",
       "<style scoped>\n",
       "    .dataframe tbody tr th:only-of-type {\n",
       "        vertical-align: middle;\n",
       "    }\n",
       "\n",
       "    .dataframe tbody tr th {\n",
       "        vertical-align: top;\n",
       "    }\n",
       "\n",
       "    .dataframe thead th {\n",
       "        text-align: right;\n",
       "    }\n",
       "</style>\n",
       "<table border=\"1\" class=\"dataframe\">\n",
       "  <thead>\n",
       "    <tr style=\"text-align: right;\">\n",
       "      <th></th>\n",
       "      <th>Cement</th>\n",
       "      <th>Blast Furnace Slag</th>\n",
       "      <th>Fly Ash</th>\n",
       "      <th>Water</th>\n",
       "      <th>Superplasticizer</th>\n",
       "      <th>Coarse Aggregate</th>\n",
       "      <th>Fine Aggregate</th>\n",
       "      <th>Age</th>\n",
       "      <th>Strength</th>\n",
       "    </tr>\n",
       "  </thead>\n",
       "  <tbody>\n",
       "    <tr>\n",
       "      <th>count</th>\n",
       "      <td>1030.000000</td>\n",
       "      <td>1030.000000</td>\n",
       "      <td>1030.000000</td>\n",
       "      <td>1030.000000</td>\n",
       "      <td>1030.000000</td>\n",
       "      <td>1030.000000</td>\n",
       "      <td>1030.000000</td>\n",
       "      <td>1030.000000</td>\n",
       "      <td>1030.000000</td>\n",
       "    </tr>\n",
       "    <tr>\n",
       "      <th>mean</th>\n",
       "      <td>281.167864</td>\n",
       "      <td>73.895825</td>\n",
       "      <td>54.188350</td>\n",
       "      <td>181.567282</td>\n",
       "      <td>6.204660</td>\n",
       "      <td>972.918932</td>\n",
       "      <td>773.580485</td>\n",
       "      <td>45.662136</td>\n",
       "      <td>35.817961</td>\n",
       "    </tr>\n",
       "    <tr>\n",
       "      <th>std</th>\n",
       "      <td>104.506364</td>\n",
       "      <td>86.279342</td>\n",
       "      <td>63.997004</td>\n",
       "      <td>21.354219</td>\n",
       "      <td>5.973841</td>\n",
       "      <td>77.753954</td>\n",
       "      <td>80.175980</td>\n",
       "      <td>63.169912</td>\n",
       "      <td>16.705742</td>\n",
       "    </tr>\n",
       "    <tr>\n",
       "      <th>min</th>\n",
       "      <td>102.000000</td>\n",
       "      <td>0.000000</td>\n",
       "      <td>0.000000</td>\n",
       "      <td>121.800000</td>\n",
       "      <td>0.000000</td>\n",
       "      <td>801.000000</td>\n",
       "      <td>594.000000</td>\n",
       "      <td>1.000000</td>\n",
       "      <td>2.330000</td>\n",
       "    </tr>\n",
       "    <tr>\n",
       "      <th>25%</th>\n",
       "      <td>192.375000</td>\n",
       "      <td>0.000000</td>\n",
       "      <td>0.000000</td>\n",
       "      <td>164.900000</td>\n",
       "      <td>0.000000</td>\n",
       "      <td>932.000000</td>\n",
       "      <td>730.950000</td>\n",
       "      <td>7.000000</td>\n",
       "      <td>23.710000</td>\n",
       "    </tr>\n",
       "    <tr>\n",
       "      <th>50%</th>\n",
       "      <td>272.900000</td>\n",
       "      <td>22.000000</td>\n",
       "      <td>0.000000</td>\n",
       "      <td>185.000000</td>\n",
       "      <td>6.400000</td>\n",
       "      <td>968.000000</td>\n",
       "      <td>779.500000</td>\n",
       "      <td>28.000000</td>\n",
       "      <td>34.445000</td>\n",
       "    </tr>\n",
       "    <tr>\n",
       "      <th>75%</th>\n",
       "      <td>350.000000</td>\n",
       "      <td>142.950000</td>\n",
       "      <td>118.300000</td>\n",
       "      <td>192.000000</td>\n",
       "      <td>10.200000</td>\n",
       "      <td>1029.400000</td>\n",
       "      <td>824.000000</td>\n",
       "      <td>56.000000</td>\n",
       "      <td>46.135000</td>\n",
       "    </tr>\n",
       "    <tr>\n",
       "      <th>max</th>\n",
       "      <td>540.000000</td>\n",
       "      <td>359.400000</td>\n",
       "      <td>200.100000</td>\n",
       "      <td>247.000000</td>\n",
       "      <td>32.200000</td>\n",
       "      <td>1145.000000</td>\n",
       "      <td>992.600000</td>\n",
       "      <td>365.000000</td>\n",
       "      <td>82.600000</td>\n",
       "    </tr>\n",
       "  </tbody>\n",
       "</table>\n",
       "</div>"
      ],
      "text/plain": [
       "            Cement  Blast Furnace Slag      Fly Ash        Water  \\\n",
       "count  1030.000000         1030.000000  1030.000000  1030.000000   \n",
       "mean    281.167864           73.895825    54.188350   181.567282   \n",
       "std     104.506364           86.279342    63.997004    21.354219   \n",
       "min     102.000000            0.000000     0.000000   121.800000   \n",
       "25%     192.375000            0.000000     0.000000   164.900000   \n",
       "50%     272.900000           22.000000     0.000000   185.000000   \n",
       "75%     350.000000          142.950000   118.300000   192.000000   \n",
       "max     540.000000          359.400000   200.100000   247.000000   \n",
       "\n",
       "       Superplasticizer  Coarse Aggregate  Fine Aggregate          Age  \\\n",
       "count       1030.000000       1030.000000     1030.000000  1030.000000   \n",
       "mean           6.204660        972.918932      773.580485    45.662136   \n",
       "std            5.973841         77.753954       80.175980    63.169912   \n",
       "min            0.000000        801.000000      594.000000     1.000000   \n",
       "25%            0.000000        932.000000      730.950000     7.000000   \n",
       "50%            6.400000        968.000000      779.500000    28.000000   \n",
       "75%           10.200000       1029.400000      824.000000    56.000000   \n",
       "max           32.200000       1145.000000      992.600000   365.000000   \n",
       "\n",
       "          Strength  \n",
       "count  1030.000000  \n",
       "mean     35.817961  \n",
       "std      16.705742  \n",
       "min       2.330000  \n",
       "25%      23.710000  \n",
       "50%      34.445000  \n",
       "75%      46.135000  \n",
       "max      82.600000  "
      ]
     },
     "execution_count": 5,
     "metadata": {},
     "output_type": "execute_result"
    }
   ],
   "source": [
    "concrete_data.describe()"
   ]
  },
  {
   "cell_type": "code",
   "execution_count": 6,
   "id": "4ff17b60-0c72-4c4a-8277-9826175bf7de",
   "metadata": {},
   "outputs": [
    {
     "data": {
      "text/plain": [
       "Cement                0\n",
       "Blast Furnace Slag    0\n",
       "Fly Ash               0\n",
       "Water                 0\n",
       "Superplasticizer      0\n",
       "Coarse Aggregate      0\n",
       "Fine Aggregate        0\n",
       "Age                   0\n",
       "Strength              0\n",
       "dtype: int64"
      ]
     },
     "execution_count": 6,
     "metadata": {},
     "output_type": "execute_result"
    }
   ],
   "source": [
    "concrete_data.isnull().sum()"
   ]
  },
  {
   "cell_type": "markdown",
   "id": "631e6ec8-4775-44bd-bc59-d4514811a14a",
   "metadata": {},
   "source": [
    "The data looks very clean and is ready to be used to build our model.\n"
   ]
  },
  {
   "cell_type": "markdown",
   "id": "7446c1e9-bbcc-4a53-88d6-32f98ea70cd6",
   "metadata": {},
   "source": [
    "#### Split data into predictors and target\n"
   ]
  },
  {
   "cell_type": "markdown",
   "id": "5add2c9f-fa4a-4d46-87a1-b553b419068d",
   "metadata": {},
   "source": [
    "The target variable in this problem is the concrete sample strength. Therefore, our predictors will be all the other columns.\n"
   ]
  },
  {
   "cell_type": "code",
   "execution_count": 7,
   "id": "1b9d0da2-9d8e-4ed6-92d4-75fb8e56579d",
   "metadata": {},
   "outputs": [],
   "source": [
    "concrete_data_columns = concrete_data.columns"
   ]
  },
  {
   "cell_type": "code",
   "execution_count": 8,
   "id": "4f95001b-5d3f-4250-ac79-e952769ad6f9",
   "metadata": {},
   "outputs": [],
   "source": [
    "predictors = concrete_data[concrete_data_columns[concrete_data_columns != 'Strength']] # all columns except Strength\n",
    "target = concrete_data['Strength'] # Strength column"
   ]
  },
  {
   "cell_type": "code",
   "execution_count": 9,
   "id": "e99c05e1-ae34-4551-a5d7-ae9daf691f8a",
   "metadata": {},
   "outputs": [
    {
     "data": {
      "text/html": [
       "<div>\n",
       "<style scoped>\n",
       "    .dataframe tbody tr th:only-of-type {\n",
       "        vertical-align: middle;\n",
       "    }\n",
       "\n",
       "    .dataframe tbody tr th {\n",
       "        vertical-align: top;\n",
       "    }\n",
       "\n",
       "    .dataframe thead th {\n",
       "        text-align: right;\n",
       "    }\n",
       "</style>\n",
       "<table border=\"1\" class=\"dataframe\">\n",
       "  <thead>\n",
       "    <tr style=\"text-align: right;\">\n",
       "      <th></th>\n",
       "      <th>Cement</th>\n",
       "      <th>Blast Furnace Slag</th>\n",
       "      <th>Fly Ash</th>\n",
       "      <th>Water</th>\n",
       "      <th>Superplasticizer</th>\n",
       "      <th>Coarse Aggregate</th>\n",
       "      <th>Fine Aggregate</th>\n",
       "      <th>Age</th>\n",
       "    </tr>\n",
       "  </thead>\n",
       "  <tbody>\n",
       "    <tr>\n",
       "      <th>0</th>\n",
       "      <td>540.0</td>\n",
       "      <td>0.0</td>\n",
       "      <td>0.0</td>\n",
       "      <td>162.0</td>\n",
       "      <td>2.5</td>\n",
       "      <td>1040.0</td>\n",
       "      <td>676.0</td>\n",
       "      <td>28</td>\n",
       "    </tr>\n",
       "    <tr>\n",
       "      <th>1</th>\n",
       "      <td>540.0</td>\n",
       "      <td>0.0</td>\n",
       "      <td>0.0</td>\n",
       "      <td>162.0</td>\n",
       "      <td>2.5</td>\n",
       "      <td>1055.0</td>\n",
       "      <td>676.0</td>\n",
       "      <td>28</td>\n",
       "    </tr>\n",
       "    <tr>\n",
       "      <th>2</th>\n",
       "      <td>332.5</td>\n",
       "      <td>142.5</td>\n",
       "      <td>0.0</td>\n",
       "      <td>228.0</td>\n",
       "      <td>0.0</td>\n",
       "      <td>932.0</td>\n",
       "      <td>594.0</td>\n",
       "      <td>270</td>\n",
       "    </tr>\n",
       "    <tr>\n",
       "      <th>3</th>\n",
       "      <td>332.5</td>\n",
       "      <td>142.5</td>\n",
       "      <td>0.0</td>\n",
       "      <td>228.0</td>\n",
       "      <td>0.0</td>\n",
       "      <td>932.0</td>\n",
       "      <td>594.0</td>\n",
       "      <td>365</td>\n",
       "    </tr>\n",
       "    <tr>\n",
       "      <th>4</th>\n",
       "      <td>198.6</td>\n",
       "      <td>132.4</td>\n",
       "      <td>0.0</td>\n",
       "      <td>192.0</td>\n",
       "      <td>0.0</td>\n",
       "      <td>978.4</td>\n",
       "      <td>825.5</td>\n",
       "      <td>360</td>\n",
       "    </tr>\n",
       "  </tbody>\n",
       "</table>\n",
       "</div>"
      ],
      "text/plain": [
       "   Cement  Blast Furnace Slag  Fly Ash  Water  Superplasticizer  \\\n",
       "0   540.0                 0.0      0.0  162.0               2.5   \n",
       "1   540.0                 0.0      0.0  162.0               2.5   \n",
       "2   332.5               142.5      0.0  228.0               0.0   \n",
       "3   332.5               142.5      0.0  228.0               0.0   \n",
       "4   198.6               132.4      0.0  192.0               0.0   \n",
       "\n",
       "   Coarse Aggregate  Fine Aggregate  Age  \n",
       "0            1040.0           676.0   28  \n",
       "1            1055.0           676.0   28  \n",
       "2             932.0           594.0  270  \n",
       "3             932.0           594.0  365  \n",
       "4             978.4           825.5  360  "
      ]
     },
     "execution_count": 9,
     "metadata": {},
     "output_type": "execute_result"
    }
   ],
   "source": [
    "predictors.head()"
   ]
  },
  {
   "cell_type": "code",
   "execution_count": 10,
   "id": "6b838c48-6305-4267-bdd6-7dd92cf046c9",
   "metadata": {},
   "outputs": [
    {
     "data": {
      "text/plain": [
       "0    79.99\n",
       "1    61.89\n",
       "2    40.27\n",
       "3    41.05\n",
       "4    44.30\n",
       "Name: Strength, dtype: float64"
      ]
     },
     "execution_count": 10,
     "metadata": {},
     "output_type": "execute_result"
    }
   ],
   "source": [
    "target.head()"
   ]
  },
  {
   "cell_type": "code",
   "execution_count": 11,
   "id": "17a0491b-1f6e-48e9-adc9-34c216687717",
   "metadata": {},
   "outputs": [
    {
     "data": {
      "text/html": [
       "<div>\n",
       "<style scoped>\n",
       "    .dataframe tbody tr th:only-of-type {\n",
       "        vertical-align: middle;\n",
       "    }\n",
       "\n",
       "    .dataframe tbody tr th {\n",
       "        vertical-align: top;\n",
       "    }\n",
       "\n",
       "    .dataframe thead th {\n",
       "        text-align: right;\n",
       "    }\n",
       "</style>\n",
       "<table border=\"1\" class=\"dataframe\">\n",
       "  <thead>\n",
       "    <tr style=\"text-align: right;\">\n",
       "      <th></th>\n",
       "      <th>Cement</th>\n",
       "      <th>Blast Furnace Slag</th>\n",
       "      <th>Fly Ash</th>\n",
       "      <th>Water</th>\n",
       "      <th>Superplasticizer</th>\n",
       "      <th>Coarse Aggregate</th>\n",
       "      <th>Fine Aggregate</th>\n",
       "      <th>Age</th>\n",
       "    </tr>\n",
       "  </thead>\n",
       "  <tbody>\n",
       "    <tr>\n",
       "      <th>0</th>\n",
       "      <td>2.476712</td>\n",
       "      <td>-0.856472</td>\n",
       "      <td>-0.846733</td>\n",
       "      <td>-0.916319</td>\n",
       "      <td>-0.620147</td>\n",
       "      <td>0.862735</td>\n",
       "      <td>-1.217079</td>\n",
       "      <td>-0.279597</td>\n",
       "    </tr>\n",
       "    <tr>\n",
       "      <th>1</th>\n",
       "      <td>2.476712</td>\n",
       "      <td>-0.856472</td>\n",
       "      <td>-0.846733</td>\n",
       "      <td>-0.916319</td>\n",
       "      <td>-0.620147</td>\n",
       "      <td>1.055651</td>\n",
       "      <td>-1.217079</td>\n",
       "      <td>-0.279597</td>\n",
       "    </tr>\n",
       "    <tr>\n",
       "      <th>2</th>\n",
       "      <td>0.491187</td>\n",
       "      <td>0.795140</td>\n",
       "      <td>-0.846733</td>\n",
       "      <td>2.174405</td>\n",
       "      <td>-1.038638</td>\n",
       "      <td>-0.526262</td>\n",
       "      <td>-2.239829</td>\n",
       "      <td>3.551340</td>\n",
       "    </tr>\n",
       "    <tr>\n",
       "      <th>3</th>\n",
       "      <td>0.491187</td>\n",
       "      <td>0.795140</td>\n",
       "      <td>-0.846733</td>\n",
       "      <td>2.174405</td>\n",
       "      <td>-1.038638</td>\n",
       "      <td>-0.526262</td>\n",
       "      <td>-2.239829</td>\n",
       "      <td>5.055221</td>\n",
       "    </tr>\n",
       "    <tr>\n",
       "      <th>4</th>\n",
       "      <td>-0.790075</td>\n",
       "      <td>0.678079</td>\n",
       "      <td>-0.846733</td>\n",
       "      <td>0.488555</td>\n",
       "      <td>-1.038638</td>\n",
       "      <td>0.070492</td>\n",
       "      <td>0.647569</td>\n",
       "      <td>4.976069</td>\n",
       "    </tr>\n",
       "  </tbody>\n",
       "</table>\n",
       "</div>"
      ],
      "text/plain": [
       "     Cement  Blast Furnace Slag   Fly Ash     Water  Superplasticizer  \\\n",
       "0  2.476712           -0.856472 -0.846733 -0.916319         -0.620147   \n",
       "1  2.476712           -0.856472 -0.846733 -0.916319         -0.620147   \n",
       "2  0.491187            0.795140 -0.846733  2.174405         -1.038638   \n",
       "3  0.491187            0.795140 -0.846733  2.174405         -1.038638   \n",
       "4 -0.790075            0.678079 -0.846733  0.488555         -1.038638   \n",
       "\n",
       "   Coarse Aggregate  Fine Aggregate       Age  \n",
       "0          0.862735       -1.217079 -0.279597  \n",
       "1          1.055651       -1.217079 -0.279597  \n",
       "2         -0.526262       -2.239829  3.551340  \n",
       "3         -0.526262       -2.239829  5.055221  \n",
       "4          0.070492        0.647569  4.976069  "
      ]
     },
     "execution_count": 11,
     "metadata": {},
     "output_type": "execute_result"
    }
   ],
   "source": [
    "predictors_norm = (predictors - predictors.mean()) / predictors.std()\n",
    "predictors_norm.head()"
   ]
  },
  {
   "cell_type": "markdown",
   "id": "60cc3491-5656-4b3d-a522-00d147e9f557",
   "metadata": {},
   "source": [
    "Let's save the number of predictors to *n_cols* since we will need this number when building our network.\n"
   ]
  },
  {
   "cell_type": "code",
   "execution_count": 12,
   "id": "b3800cc5-2be0-486a-bd13-8f7de6813947",
   "metadata": {},
   "outputs": [],
   "source": [
    "n_cols = predictors_norm.shape[1] # number of predictors"
   ]
  },
  {
   "cell_type": "markdown",
   "id": "5905e70c-c6f6-421d-8a09-03431a3aeb9e",
   "metadata": {},
   "source": [
    "##  Import Keras Packages\n",
    "\n",
    "##### Let's import the rest of the packages from the Keras library that we will need to build our regression model.\n"
   ]
  },
  {
   "cell_type": "code",
   "execution_count": 13,
   "id": "c7de1637-318d-4510-ad76-cfebdd83a274",
   "metadata": {},
   "outputs": [],
   "source": [
    "from keras.models import Sequential\n",
    "from keras.layers import Dense\n",
    "from keras.layers import Input"
   ]
  },
  {
   "cell_type": "markdown",
   "id": "045b0b01-47a2-4c87-88a3-9f4e7579749c",
   "metadata": {},
   "source": [
    "## Build a Neural Network\n"
   ]
  },
  {
   "cell_type": "markdown",
   "id": "728f4ef6-1fcf-4380-8d3d-91ccc9c28f84",
   "metadata": {},
   "source": [
    "Let's define a function that defines our regression model for us so that we can conveniently call it to create our model.\n"
   ]
  },
  {
   "cell_type": "code",
   "execution_count": 18,
   "id": "b81b21e0-e813-418c-9f4e-51d681528956",
   "metadata": {},
   "outputs": [],
   "source": [
    "# define regression model\n",
    "def regression_model():\n",
    "    # create model\n",
    "    model = Sequential()\n",
    "    model.add(Input(shape=(n_cols,)))\n",
    "    model.add(Dense(50, activation='relu'))\n",
    "    model.add(Dense(50, activation='relu'))\n",
    "    model.add(Dense(10, activation='relu'))\n",
    "    model.add(Dense(1))\n",
    "    \n",
    "    # compile model\n",
    "    model.compile(optimizer='adam', loss='mean_squared_error')\n",
    "    return model"
   ]
  },
  {
   "cell_type": "markdown",
   "id": "7fc49b43-5f18-4774-a595-972aaf027eaa",
   "metadata": {},
   "source": [
    "## Train and Test the Network\n"
   ]
  },
  {
   "cell_type": "markdown",
   "id": "a31d9301-7dcd-4794-85a1-8caa65cff512",
   "metadata": {},
   "source": [
    "Let's call the function now to create our model.\n"
   ]
  },
  {
   "cell_type": "code",
   "execution_count": 19,
   "id": "b1c5ef10-65bc-492d-9f5d-a2bdc9e5184e",
   "metadata": {},
   "outputs": [
    {
     "data": {
      "text/html": [
       "<pre style=\"white-space:pre;overflow-x:auto;line-height:normal;font-family:Menlo,'DejaVu Sans Mono',consolas,'Courier New',monospace\"><span style=\"font-weight: bold\">Model: \"sequential_2\"</span>\n",
       "</pre>\n"
      ],
      "text/plain": [
       "\u001b[1mModel: \"sequential_2\"\u001b[0m\n"
      ]
     },
     "metadata": {},
     "output_type": "display_data"
    },
    {
     "data": {
      "text/html": [
       "<pre style=\"white-space:pre;overflow-x:auto;line-height:normal;font-family:Menlo,'DejaVu Sans Mono',consolas,'Courier New',monospace\">┏━━━━━━━━━━━━━━━━━━━━━━━━━━━━━━━━━┳━━━━━━━━━━━━━━━━━━━━━━━━┳━━━━━━━━━━━━━━━┓\n",
       "┃<span style=\"font-weight: bold\"> Layer (type)                    </span>┃<span style=\"font-weight: bold\"> Output Shape           </span>┃<span style=\"font-weight: bold\">       Param # </span>┃\n",
       "┡━━━━━━━━━━━━━━━━━━━━━━━━━━━━━━━━━╇━━━━━━━━━━━━━━━━━━━━━━━━╇━━━━━━━━━━━━━━━┩\n",
       "│ dense_6 (<span style=\"color: #0087ff; text-decoration-color: #0087ff\">Dense</span>)                 │ (<span style=\"color: #00d7ff; text-decoration-color: #00d7ff\">None</span>, <span style=\"color: #00af00; text-decoration-color: #00af00\">50</span>)             │           <span style=\"color: #00af00; text-decoration-color: #00af00\">450</span> │\n",
       "├─────────────────────────────────┼────────────────────────┼───────────────┤\n",
       "│ dense_7 (<span style=\"color: #0087ff; text-decoration-color: #0087ff\">Dense</span>)                 │ (<span style=\"color: #00d7ff; text-decoration-color: #00d7ff\">None</span>, <span style=\"color: #00af00; text-decoration-color: #00af00\">50</span>)             │         <span style=\"color: #00af00; text-decoration-color: #00af00\">2,550</span> │\n",
       "├─────────────────────────────────┼────────────────────────┼───────────────┤\n",
       "│ dense_8 (<span style=\"color: #0087ff; text-decoration-color: #0087ff\">Dense</span>)                 │ (<span style=\"color: #00d7ff; text-decoration-color: #00d7ff\">None</span>, <span style=\"color: #00af00; text-decoration-color: #00af00\">10</span>)             │           <span style=\"color: #00af00; text-decoration-color: #00af00\">510</span> │\n",
       "├─────────────────────────────────┼────────────────────────┼───────────────┤\n",
       "│ dense_9 (<span style=\"color: #0087ff; text-decoration-color: #0087ff\">Dense</span>)                 │ (<span style=\"color: #00d7ff; text-decoration-color: #00d7ff\">None</span>, <span style=\"color: #00af00; text-decoration-color: #00af00\">1</span>)              │            <span style=\"color: #00af00; text-decoration-color: #00af00\">11</span> │\n",
       "└─────────────────────────────────┴────────────────────────┴───────────────┘\n",
       "</pre>\n"
      ],
      "text/plain": [
       "┏━━━━━━━━━━━━━━━━━━━━━━━━━━━━━━━━━┳━━━━━━━━━━━━━━━━━━━━━━━━┳━━━━━━━━━━━━━━━┓\n",
       "┃\u001b[1m \u001b[0m\u001b[1mLayer (type)                   \u001b[0m\u001b[1m \u001b[0m┃\u001b[1m \u001b[0m\u001b[1mOutput Shape          \u001b[0m\u001b[1m \u001b[0m┃\u001b[1m \u001b[0m\u001b[1m      Param #\u001b[0m\u001b[1m \u001b[0m┃\n",
       "┡━━━━━━━━━━━━━━━━━━━━━━━━━━━━━━━━━╇━━━━━━━━━━━━━━━━━━━━━━━━╇━━━━━━━━━━━━━━━┩\n",
       "│ dense_6 (\u001b[38;5;33mDense\u001b[0m)                 │ (\u001b[38;5;45mNone\u001b[0m, \u001b[38;5;34m50\u001b[0m)             │           \u001b[38;5;34m450\u001b[0m │\n",
       "├─────────────────────────────────┼────────────────────────┼───────────────┤\n",
       "│ dense_7 (\u001b[38;5;33mDense\u001b[0m)                 │ (\u001b[38;5;45mNone\u001b[0m, \u001b[38;5;34m50\u001b[0m)             │         \u001b[38;5;34m2,550\u001b[0m │\n",
       "├─────────────────────────────────┼────────────────────────┼───────────────┤\n",
       "│ dense_8 (\u001b[38;5;33mDense\u001b[0m)                 │ (\u001b[38;5;45mNone\u001b[0m, \u001b[38;5;34m10\u001b[0m)             │           \u001b[38;5;34m510\u001b[0m │\n",
       "├─────────────────────────────────┼────────────────────────┼───────────────┤\n",
       "│ dense_9 (\u001b[38;5;33mDense\u001b[0m)                 │ (\u001b[38;5;45mNone\u001b[0m, \u001b[38;5;34m1\u001b[0m)              │            \u001b[38;5;34m11\u001b[0m │\n",
       "└─────────────────────────────────┴────────────────────────┴───────────────┘\n"
      ]
     },
     "metadata": {},
     "output_type": "display_data"
    },
    {
     "data": {
      "text/html": [
       "<pre style=\"white-space:pre;overflow-x:auto;line-height:normal;font-family:Menlo,'DejaVu Sans Mono',consolas,'Courier New',monospace\"><span style=\"font-weight: bold\"> Total params: </span><span style=\"color: #00af00; text-decoration-color: #00af00\">3,521</span> (13.75 KB)\n",
       "</pre>\n"
      ],
      "text/plain": [
       "\u001b[1m Total params: \u001b[0m\u001b[38;5;34m3,521\u001b[0m (13.75 KB)\n"
      ]
     },
     "metadata": {},
     "output_type": "display_data"
    },
    {
     "data": {
      "text/html": [
       "<pre style=\"white-space:pre;overflow-x:auto;line-height:normal;font-family:Menlo,'DejaVu Sans Mono',consolas,'Courier New',monospace\"><span style=\"font-weight: bold\"> Trainable params: </span><span style=\"color: #00af00; text-decoration-color: #00af00\">3,521</span> (13.75 KB)\n",
       "</pre>\n"
      ],
      "text/plain": [
       "\u001b[1m Trainable params: \u001b[0m\u001b[38;5;34m3,521\u001b[0m (13.75 KB)\n"
      ]
     },
     "metadata": {},
     "output_type": "display_data"
    },
    {
     "data": {
      "text/html": [
       "<pre style=\"white-space:pre;overflow-x:auto;line-height:normal;font-family:Menlo,'DejaVu Sans Mono',consolas,'Courier New',monospace\"><span style=\"font-weight: bold\"> Non-trainable params: </span><span style=\"color: #00af00; text-decoration-color: #00af00\">0</span> (0.00 B)\n",
       "</pre>\n"
      ],
      "text/plain": [
       "\u001b[1m Non-trainable params: \u001b[0m\u001b[38;5;34m0\u001b[0m (0.00 B)\n"
      ]
     },
     "metadata": {},
     "output_type": "display_data"
    }
   ],
   "source": [
    "# build the model\n",
    "model = regression_model()\n",
    "model.summary()"
   ]
  },
  {
   "cell_type": "markdown",
   "id": "56194734-19f5-4ce1-87b6-964948bd49d0",
   "metadata": {},
   "source": [
    "Next, we will train and test the model at the same time using the *fit* method. We will leave out 30% of the data for validation and we will train the model for 100 epochs.\n"
   ]
  },
  {
   "cell_type": "code",
   "execution_count": 20,
   "id": "9a12ff0d-9c29-4d29-bc9b-0bdf7a5480cc",
   "metadata": {},
   "outputs": [
    {
     "name": "stdout",
     "output_type": "stream",
     "text": [
      "Epoch 1/100\n",
      "23/23 - 1s - 36ms/step - loss: 1623.6511 - val_loss: 1102.2426\n",
      "Epoch 2/100\n",
      "23/23 - 0s - 4ms/step - loss: 1410.9916 - val_loss: 892.2534\n",
      "Epoch 3/100\n",
      "23/23 - 0s - 4ms/step - loss: 1025.6105 - val_loss: 553.9822\n",
      "Epoch 4/100\n",
      "23/23 - 0s - 4ms/step - loss: 515.1846 - val_loss: 243.3532\n",
      "Epoch 5/100\n",
      "23/23 - 0s - 4ms/step - loss: 269.7802 - val_loss: 184.6545\n",
      "Epoch 6/100\n",
      "23/23 - 0s - 4ms/step - loss: 232.5070 - val_loss: 179.7969\n",
      "Epoch 7/100\n",
      "23/23 - 0s - 4ms/step - loss: 215.9640 - val_loss: 173.2325\n",
      "Epoch 8/100\n",
      "23/23 - 0s - 5ms/step - loss: 206.0378 - val_loss: 169.0318\n",
      "Epoch 9/100\n",
      "23/23 - 0s - 4ms/step - loss: 196.9245 - val_loss: 167.2367\n",
      "Epoch 10/100\n",
      "23/23 - 0s - 5ms/step - loss: 189.8798 - val_loss: 159.6250\n",
      "Epoch 11/100\n",
      "23/23 - 0s - 4ms/step - loss: 183.3798 - val_loss: 161.3120\n",
      "Epoch 12/100\n",
      "23/23 - 0s - 4ms/step - loss: 177.8439 - val_loss: 159.6216\n",
      "Epoch 13/100\n",
      "23/23 - 0s - 4ms/step - loss: 173.1045 - val_loss: 155.6985\n",
      "Epoch 14/100\n",
      "23/23 - 0s - 4ms/step - loss: 169.1432 - val_loss: 156.3964\n",
      "Epoch 15/100\n",
      "23/23 - 0s - 4ms/step - loss: 165.0718 - val_loss: 153.5830\n",
      "Epoch 16/100\n",
      "23/23 - 0s - 4ms/step - loss: 161.1976 - val_loss: 152.9469\n",
      "Epoch 17/100\n",
      "23/23 - 0s - 4ms/step - loss: 157.5557 - val_loss: 151.4100\n",
      "Epoch 18/100\n",
      "23/23 - 0s - 4ms/step - loss: 155.2577 - val_loss: 150.9194\n",
      "Epoch 19/100\n",
      "23/23 - 0s - 4ms/step - loss: 151.0170 - val_loss: 151.1963\n",
      "Epoch 20/100\n",
      "23/23 - 0s - 4ms/step - loss: 147.2294 - val_loss: 148.6486\n",
      "Epoch 21/100\n",
      "23/23 - 0s - 4ms/step - loss: 143.5656 - val_loss: 149.1294\n",
      "Epoch 22/100\n",
      "23/23 - 0s - 4ms/step - loss: 140.0513 - val_loss: 145.7140\n",
      "Epoch 23/100\n",
      "23/23 - 0s - 4ms/step - loss: 135.3093 - val_loss: 147.3475\n",
      "Epoch 24/100\n",
      "23/23 - 0s - 4ms/step - loss: 130.9474 - val_loss: 143.6762\n",
      "Epoch 25/100\n",
      "23/23 - 0s - 4ms/step - loss: 127.2225 - val_loss: 146.9930\n",
      "Epoch 26/100\n",
      "23/23 - 0s - 4ms/step - loss: 123.8183 - val_loss: 140.3297\n",
      "Epoch 27/100\n",
      "23/23 - 0s - 4ms/step - loss: 118.5421 - val_loss: 143.9656\n",
      "Epoch 28/100\n",
      "23/23 - 0s - 4ms/step - loss: 114.5138 - val_loss: 142.8622\n",
      "Epoch 29/100\n",
      "23/23 - 0s - 4ms/step - loss: 109.3035 - val_loss: 144.5517\n",
      "Epoch 30/100\n",
      "23/23 - 0s - 4ms/step - loss: 105.6674 - val_loss: 141.9744\n",
      "Epoch 31/100\n",
      "23/23 - 0s - 4ms/step - loss: 100.8034 - val_loss: 143.2652\n",
      "Epoch 32/100\n",
      "23/23 - 0s - 4ms/step - loss: 96.7998 - val_loss: 143.7068\n",
      "Epoch 33/100\n",
      "23/23 - 0s - 4ms/step - loss: 93.9237 - val_loss: 140.7124\n",
      "Epoch 34/100\n",
      "23/23 - 0s - 4ms/step - loss: 86.9977 - val_loss: 144.2194\n",
      "Epoch 35/100\n",
      "23/23 - 0s - 4ms/step - loss: 81.8740 - val_loss: 141.9458\n",
      "Epoch 36/100\n",
      "23/23 - 0s - 4ms/step - loss: 78.0250 - val_loss: 146.4656\n",
      "Epoch 37/100\n",
      "23/23 - 0s - 4ms/step - loss: 73.6310 - val_loss: 145.2103\n",
      "Epoch 38/100\n",
      "23/23 - 0s - 4ms/step - loss: 70.9687 - val_loss: 144.6288\n",
      "Epoch 39/100\n",
      "23/23 - 0s - 4ms/step - loss: 66.5837 - val_loss: 150.1945\n",
      "Epoch 40/100\n",
      "23/23 - 0s - 4ms/step - loss: 63.5853 - val_loss: 141.8869\n",
      "Epoch 41/100\n",
      "23/23 - 0s - 4ms/step - loss: 62.0876 - val_loss: 152.1336\n",
      "Epoch 42/100\n",
      "23/23 - 0s - 4ms/step - loss: 58.2105 - val_loss: 150.1432\n",
      "Epoch 43/100\n",
      "23/23 - 0s - 4ms/step - loss: 56.0510 - val_loss: 148.9928\n",
      "Epoch 44/100\n",
      "23/23 - 0s - 4ms/step - loss: 53.6379 - val_loss: 145.4971\n",
      "Epoch 45/100\n",
      "23/23 - 0s - 4ms/step - loss: 53.2857 - val_loss: 142.5563\n",
      "Epoch 46/100\n",
      "23/23 - 0s - 4ms/step - loss: 52.2634 - val_loss: 152.0684\n",
      "Epoch 47/100\n",
      "23/23 - 0s - 4ms/step - loss: 48.0086 - val_loss: 151.8416\n",
      "Epoch 48/100\n",
      "23/23 - 0s - 4ms/step - loss: 46.9153 - val_loss: 154.3363\n",
      "Epoch 49/100\n",
      "23/23 - 0s - 4ms/step - loss: 45.7216 - val_loss: 158.3695\n",
      "Epoch 50/100\n",
      "23/23 - 0s - 4ms/step - loss: 43.7583 - val_loss: 153.4238\n",
      "Epoch 51/100\n",
      "23/23 - 0s - 4ms/step - loss: 42.8572 - val_loss: 157.3449\n",
      "Epoch 52/100\n",
      "23/23 - 0s - 4ms/step - loss: 41.6939 - val_loss: 161.0956\n",
      "Epoch 53/100\n",
      "23/23 - 0s - 4ms/step - loss: 40.4644 - val_loss: 150.7539\n",
      "Epoch 54/100\n",
      "23/23 - 0s - 4ms/step - loss: 39.7199 - val_loss: 169.1764\n",
      "Epoch 55/100\n",
      "23/23 - 0s - 4ms/step - loss: 38.6507 - val_loss: 150.3701\n",
      "Epoch 56/100\n",
      "23/23 - 0s - 4ms/step - loss: 37.3425 - val_loss: 159.0823\n",
      "Epoch 57/100\n",
      "23/23 - 0s - 4ms/step - loss: 37.1696 - val_loss: 159.3337\n",
      "Epoch 58/100\n",
      "23/23 - 0s - 4ms/step - loss: 35.6771 - val_loss: 151.8596\n",
      "Epoch 59/100\n",
      "23/23 - 0s - 4ms/step - loss: 35.3352 - val_loss: 148.4199\n",
      "Epoch 60/100\n",
      "23/23 - 0s - 4ms/step - loss: 34.5148 - val_loss: 164.2675\n",
      "Epoch 61/100\n",
      "23/23 - 0s - 4ms/step - loss: 34.0842 - val_loss: 169.4412\n",
      "Epoch 62/100\n",
      "23/23 - 0s - 4ms/step - loss: 34.0823 - val_loss: 160.1760\n",
      "Epoch 63/100\n",
      "23/23 - 0s - 4ms/step - loss: 33.3646 - val_loss: 164.4229\n",
      "Epoch 64/100\n",
      "23/23 - 0s - 4ms/step - loss: 32.1367 - val_loss: 160.9049\n",
      "Epoch 65/100\n",
      "23/23 - 0s - 4ms/step - loss: 31.3870 - val_loss: 155.4858\n",
      "Epoch 66/100\n",
      "23/23 - 0s - 4ms/step - loss: 31.7734 - val_loss: 175.4240\n",
      "Epoch 67/100\n",
      "23/23 - 0s - 4ms/step - loss: 31.5156 - val_loss: 174.6804\n",
      "Epoch 68/100\n",
      "23/23 - 0s - 4ms/step - loss: 29.9964 - val_loss: 160.9193\n",
      "Epoch 69/100\n",
      "23/23 - 0s - 4ms/step - loss: 29.6494 - val_loss: 163.6899\n",
      "Epoch 70/100\n",
      "23/23 - 0s - 4ms/step - loss: 29.1773 - val_loss: 164.7710\n",
      "Epoch 71/100\n",
      "23/23 - 0s - 4ms/step - loss: 28.7624 - val_loss: 178.0054\n",
      "Epoch 72/100\n",
      "23/23 - 0s - 4ms/step - loss: 29.7078 - val_loss: 163.4810\n",
      "Epoch 73/100\n",
      "23/23 - 0s - 4ms/step - loss: 28.0775 - val_loss: 155.9770\n",
      "Epoch 74/100\n",
      "23/23 - 0s - 4ms/step - loss: 28.0297 - val_loss: 165.7325\n",
      "Epoch 75/100\n",
      "23/23 - 0s - 4ms/step - loss: 27.0014 - val_loss: 160.6178\n",
      "Epoch 76/100\n",
      "23/23 - 0s - 4ms/step - loss: 26.3060 - val_loss: 164.1391\n",
      "Epoch 77/100\n",
      "23/23 - 0s - 4ms/step - loss: 26.4258 - val_loss: 176.3325\n",
      "Epoch 78/100\n",
      "23/23 - 0s - 4ms/step - loss: 26.4351 - val_loss: 163.2954\n",
      "Epoch 79/100\n",
      "23/23 - 0s - 5ms/step - loss: 26.2052 - val_loss: 171.6324\n",
      "Epoch 80/100\n",
      "23/23 - 0s - 4ms/step - loss: 25.3226 - val_loss: 171.6920\n",
      "Epoch 81/100\n",
      "23/23 - 0s - 4ms/step - loss: 25.3671 - val_loss: 158.8278\n",
      "Epoch 82/100\n",
      "23/23 - 0s - 4ms/step - loss: 24.6711 - val_loss: 185.6117\n",
      "Epoch 83/100\n",
      "23/23 - 0s - 4ms/step - loss: 24.7012 - val_loss: 178.0044\n",
      "Epoch 84/100\n",
      "23/23 - 0s - 4ms/step - loss: 23.9700 - val_loss: 174.3064\n",
      "Epoch 85/100\n",
      "23/23 - 0s - 4ms/step - loss: 24.5434 - val_loss: 187.3274\n",
      "Epoch 86/100\n",
      "23/23 - 0s - 4ms/step - loss: 24.3224 - val_loss: 164.5385\n",
      "Epoch 87/100\n",
      "23/23 - 0s - 4ms/step - loss: 27.8769 - val_loss: 147.4462\n",
      "Epoch 88/100\n",
      "23/23 - 0s - 4ms/step - loss: 24.4678 - val_loss: 166.2335\n",
      "Epoch 89/100\n",
      "23/23 - 0s - 4ms/step - loss: 23.3687 - val_loss: 178.2687\n",
      "Epoch 90/100\n",
      "23/23 - 0s - 4ms/step - loss: 23.1739 - val_loss: 185.3911\n",
      "Epoch 91/100\n",
      "23/23 - 0s - 4ms/step - loss: 22.6325 - val_loss: 171.0315\n",
      "Epoch 92/100\n",
      "23/23 - 0s - 4ms/step - loss: 22.4915 - val_loss: 186.9773\n",
      "Epoch 93/100\n",
      "23/23 - 0s - 4ms/step - loss: 22.6832 - val_loss: 168.8694\n",
      "Epoch 94/100\n",
      "23/23 - 0s - 4ms/step - loss: 23.4847 - val_loss: 166.8837\n",
      "Epoch 95/100\n",
      "23/23 - 0s - 4ms/step - loss: 22.5820 - val_loss: 175.6217\n",
      "Epoch 96/100\n",
      "23/23 - 0s - 4ms/step - loss: 22.0938 - val_loss: 184.2764\n",
      "Epoch 97/100\n",
      "23/23 - 0s - 4ms/step - loss: 21.6914 - val_loss: 195.1097\n",
      "Epoch 98/100\n",
      "23/23 - 0s - 4ms/step - loss: 21.7240 - val_loss: 177.3031\n",
      "Epoch 99/100\n",
      "23/23 - 0s - 4ms/step - loss: 21.5217 - val_loss: 178.5446\n",
      "Epoch 100/100\n",
      "23/23 - 0s - 4ms/step - loss: 21.1098 - val_loss: 181.5295\n"
     ]
    },
    {
     "data": {
      "text/plain": [
       "<keras.src.callbacks.history.History at 0x2bdfcc8c8e0>"
      ]
     },
     "execution_count": 20,
     "metadata": {},
     "output_type": "execute_result"
    }
   ],
   "source": [
    "# fit the model\n",
    "model.fit(predictors_norm, target, validation_split=0.3, epochs=100, verbose=2)"
   ]
  }
 ],
 "metadata": {
  "kernelspec": {
   "display_name": "ibm_2",
   "language": "python",
   "name": "python3"
  },
  "language_info": {
   "codemirror_mode": {
    "name": "ipython",
    "version": 3
   },
   "file_extension": ".py",
   "mimetype": "text/x-python",
   "name": "python",
   "nbconvert_exporter": "python",
   "pygments_lexer": "ipython3",
   "version": "3.9.23"
  },
  "prev_pub_hash": "cbb86e20eb1e13d10f60b5e08fb000a189e0799554e7482999da2a778d69cfdf"
 },
 "nbformat": 4,
 "nbformat_minor": 4
}
